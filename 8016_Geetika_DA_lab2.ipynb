{
 "cells": [
  {
   "cell_type": "code",
   "execution_count": 1,
   "id": "86454e63-48e6-4051-a987-9387d222caf1",
   "metadata": {},
   "outputs": [],
   "source": [
    "import numpy as np\n",
    "import pandas as pd\n",
    "import matplotlib.pyplot as plt"
   ]
  },
  {
   "cell_type": "code",
   "execution_count": 2,
   "id": "8c3c61b5-2dce-4ca4-ba3e-6a18bfe317f1",
   "metadata": {},
   "outputs": [
    {
     "data": {
      "text/plain": [
       "0    4\n",
       "1    5\n",
       "2    2\n",
       "3    8\n",
       "dtype: int64"
      ]
     },
     "execution_count": 2,
     "metadata": {},
     "output_type": "execute_result"
    }
   ],
   "source": [
    "# 1. 1-D array like object containint an array\n",
    "df = pd.Series([4, 5, 2, 8])\n",
    "df"
   ]
  },
  {
   "cell_type": "code",
   "execution_count": 7,
   "id": "62590553-7829-4c3b-a642-855b0a85c342",
   "metadata": {},
   "outputs": [
    {
     "data": {
      "text/plain": [
       "[4, 5, 2, 8]"
      ]
     },
     "execution_count": 7,
     "metadata": {},
     "output_type": "execute_result"
    }
   ],
   "source": [
    "# 2. Convert series to list and print its type\n",
    "lst = list(df)\n",
    "lst"
   ]
  },
  {
   "cell_type": "code",
   "execution_count": 8,
   "id": "c66aef56-e811-4791-a041-ce671c36d7d7",
   "metadata": {},
   "outputs": [
    {
     "data": {
      "text/plain": [
       "list"
      ]
     },
     "execution_count": 8,
     "metadata": {},
     "output_type": "execute_result"
    }
   ],
   "source": [
    "type(lst)"
   ]
  },
  {
   "cell_type": "code",
   "execution_count": 14,
   "id": "237ec312-184d-4ec0-8a37-b05efe48bc3c",
   "metadata": {},
   "outputs": [],
   "source": [
    "# 3. Add, subtract, multiple, divide series\n",
    "s1 = pd.Series([2, 4, 6, 8, 10])\n",
    "s2 = pd.Series([1, 3, 5, 7, 9])"
   ]
  },
  {
   "cell_type": "code",
   "execution_count": 10,
   "id": "763fa941-757c-47a8-a751-57dd1957f7de",
   "metadata": {},
   "outputs": [
    {
     "data": {
      "text/plain": [
       "0    1\n",
       "1    1\n",
       "2    1\n",
       "3    1\n",
       "4    1\n",
       "dtype: int64"
      ]
     },
     "execution_count": 10,
     "metadata": {},
     "output_type": "execute_result"
    }
   ],
   "source": [
    "s1 - s2"
   ]
  },
  {
   "cell_type": "code",
   "execution_count": 11,
   "id": "7a87fb7a-7d6f-4b1d-aa95-476112eb3239",
   "metadata": {},
   "outputs": [
    {
     "data": {
      "text/plain": [
       "0     3\n",
       "1     7\n",
       "2    11\n",
       "3    15\n",
       "4    19\n",
       "dtype: int64"
      ]
     },
     "execution_count": 11,
     "metadata": {},
     "output_type": "execute_result"
    }
   ],
   "source": [
    "s1 + s2"
   ]
  },
  {
   "cell_type": "code",
   "execution_count": 12,
   "id": "8223ca72-b49a-46bc-b9cf-eec79038c849",
   "metadata": {},
   "outputs": [
    {
     "data": {
      "text/plain": [
       "0     2\n",
       "1    12\n",
       "2    30\n",
       "3    56\n",
       "4    90\n",
       "dtype: int64"
      ]
     },
     "execution_count": 12,
     "metadata": {},
     "output_type": "execute_result"
    }
   ],
   "source": [
    "s1 * s2"
   ]
  },
  {
   "cell_type": "code",
   "execution_count": 13,
   "id": "ca6cd885-ff0c-4db4-a7a2-9f19ac8cdaea",
   "metadata": {},
   "outputs": [
    {
     "data": {
      "text/plain": [
       "0    2.000000\n",
       "1    1.333333\n",
       "2    1.200000\n",
       "3    1.142857\n",
       "4    1.111111\n",
       "dtype: float64"
      ]
     },
     "execution_count": 13,
     "metadata": {},
     "output_type": "execute_result"
    }
   ],
   "source": [
    "s1 / s2"
   ]
  },
  {
   "cell_type": "code",
   "execution_count": 15,
   "id": "cfd2b76f-be31-4747-83c9-6a1647b1012c",
   "metadata": {},
   "outputs": [
    {
     "data": {
      "text/plain": [
       "0    True\n",
       "1    True\n",
       "2    True\n",
       "3    True\n",
       "4    True\n",
       "dtype: bool"
      ]
     },
     "execution_count": 15,
     "metadata": {},
     "output_type": "execute_result"
    }
   ],
   "source": [
    "# 4. compare 2 series\n",
    "s1 > s2"
   ]
  },
  {
   "cell_type": "code",
   "execution_count": 17,
   "id": "d67c572c-a1b3-42b8-8af4-c2fc23897f48",
   "metadata": {},
   "outputs": [
    {
     "data": {
      "text/html": [
       "<div>\n",
       "<style scoped>\n",
       "    .dataframe tbody tr th:only-of-type {\n",
       "        vertical-align: middle;\n",
       "    }\n",
       "\n",
       "    .dataframe tbody tr th {\n",
       "        vertical-align: top;\n",
       "    }\n",
       "\n",
       "    .dataframe thead th {\n",
       "        text-align: right;\n",
       "    }\n",
       "</style>\n",
       "<table border=\"1\" class=\"dataframe\">\n",
       "  <thead>\n",
       "    <tr style=\"text-align: right;\">\n",
       "      <th></th>\n",
       "      <th>self</th>\n",
       "      <th>other</th>\n",
       "    </tr>\n",
       "  </thead>\n",
       "  <tbody>\n",
       "    <tr>\n",
       "      <th>0</th>\n",
       "      <td>2</td>\n",
       "      <td>1</td>\n",
       "    </tr>\n",
       "    <tr>\n",
       "      <th>1</th>\n",
       "      <td>4</td>\n",
       "      <td>3</td>\n",
       "    </tr>\n",
       "    <tr>\n",
       "      <th>2</th>\n",
       "      <td>6</td>\n",
       "      <td>5</td>\n",
       "    </tr>\n",
       "    <tr>\n",
       "      <th>3</th>\n",
       "      <td>8</td>\n",
       "      <td>7</td>\n",
       "    </tr>\n",
       "    <tr>\n",
       "      <th>4</th>\n",
       "      <td>10</td>\n",
       "      <td>9</td>\n",
       "    </tr>\n",
       "  </tbody>\n",
       "</table>\n",
       "</div>"
      ],
      "text/plain": [
       "   self  other\n",
       "0     2      1\n",
       "1     4      3\n",
       "2     6      5\n",
       "3     8      7\n",
       "4    10      9"
      ]
     },
     "execution_count": 17,
     "metadata": {},
     "output_type": "execute_result"
    }
   ],
   "source": [
    "s1.compare(s2)"
   ]
  },
  {
   "cell_type": "code",
   "execution_count": 18,
   "id": "594fd8f3-a14c-46c9-aca6-5b2484834299",
   "metadata": {},
   "outputs": [
    {
     "data": {
      "text/plain": [
       "{'a': 100, 'b': 200, 'c': 300, 'd': 400, 'e': 800}"
      ]
     },
     "execution_count": 18,
     "metadata": {},
     "output_type": "execute_result"
    }
   ],
   "source": [
    "# 5. convert dictionary to series\n",
    "d1 = {'a': 100, 'b': 200, 'c': 300, 'd': 400, 'e': 800}\n",
    "d1"
   ]
  },
  {
   "cell_type": "code",
   "execution_count": 19,
   "id": "e52bab15-21c4-4f7e-a431-d68f84f6dd7c",
   "metadata": {},
   "outputs": [
    {
     "data": {
      "text/plain": [
       "a    100\n",
       "b    200\n",
       "c    300\n",
       "d    400\n",
       "e    800\n",
       "dtype: int64"
      ]
     },
     "execution_count": 19,
     "metadata": {},
     "output_type": "execute_result"
    }
   ],
   "source": [
    "pd.Series(d1)"
   ]
  },
  {
   "cell_type": "code",
   "execution_count": 20,
   "id": "9240b231-a90b-4d7a-902e-88c83887bccb",
   "metadata": {},
   "outputs": [
    {
     "data": {
      "text/plain": [
       "array([10, 20, 30, 40, 50])"
      ]
     },
     "execution_count": 20,
     "metadata": {},
     "output_type": "execute_result"
    }
   ],
   "source": [
    "# 6. numpy array to series\n",
    "n = np.array([10, 20, 30, 40, 50])\n",
    "n"
   ]
  },
  {
   "cell_type": "code",
   "execution_count": 21,
   "id": "0cec00f1-f35f-4f1e-840e-4a306b57eb24",
   "metadata": {},
   "outputs": [
    {
     "data": {
      "text/plain": [
       "0    10\n",
       "1    20\n",
       "2    30\n",
       "3    40\n",
       "4    50\n",
       "dtype: int32"
      ]
     },
     "execution_count": 21,
     "metadata": {},
     "output_type": "execute_result"
    }
   ],
   "source": [
    "pd.Series(n)"
   ]
  },
  {
   "cell_type": "code",
   "execution_count": 23,
   "id": "d8021230-7e5c-4da5-b2ef-2fff9329a850",
   "metadata": {},
   "outputs": [],
   "source": [
    "# 7. change datatype of index\n",
    "a = pd.Series([100, 200, 'python', 300.12, 400] )"
   ]
  },
  {
   "cell_type": "code",
   "execution_count": 24,
   "id": "7e67d829-6f08-4b1f-85d3-6225abbc2671",
   "metadata": {},
   "outputs": [
    {
     "data": {
      "text/plain": [
       "0       100\n",
       "1       200\n",
       "2    python\n",
       "3    300.12\n",
       "4       400\n",
       "dtype: object"
      ]
     },
     "execution_count": 24,
     "metadata": {},
     "output_type": "execute_result"
    }
   ],
   "source": [
    "a"
   ]
  },
  {
   "cell_type": "code",
   "execution_count": 35,
   "id": "178b3ff2-bdcf-4877-ad52-ec51de236490",
   "metadata": {},
   "outputs": [
    {
     "data": {
      "text/plain": [
       "0    100.00\n",
       "1    200.00\n",
       "2       NaN\n",
       "3    300.12\n",
       "4    400.00\n",
       "dtype: float64"
      ]
     },
     "execution_count": 35,
     "metadata": {},
     "output_type": "execute_result"
    }
   ],
   "source": [
    "a = pd.Series([100, 200, 'python', 300.12, 400])\n",
    "# If ‘coerce’, then invalid parsing will be set as NaN.\n",
    "pd.to_numeric(a, errors='coerce')"
   ]
  },
  {
   "cell_type": "code",
   "execution_count": 43,
   "id": "bf881e8c-f3f9-4fbf-9980-715e4b44b765",
   "metadata": {},
   "outputs": [
    {
     "data": {
      "text/html": [
       "<div>\n",
       "<style scoped>\n",
       "    .dataframe tbody tr th:only-of-type {\n",
       "        vertical-align: middle;\n",
       "    }\n",
       "\n",
       "    .dataframe tbody tr th {\n",
       "        vertical-align: top;\n",
       "    }\n",
       "\n",
       "    .dataframe thead th {\n",
       "        text-align: right;\n",
       "    }\n",
       "</style>\n",
       "<table border=\"1\" class=\"dataframe\">\n",
       "  <thead>\n",
       "    <tr style=\"text-align: right;\">\n",
       "      <th></th>\n",
       "      <th>col1</th>\n",
       "      <th>col2</th>\n",
       "      <th>col3</th>\n",
       "    </tr>\n",
       "  </thead>\n",
       "  <tbody>\n",
       "    <tr>\n",
       "      <th>0</th>\n",
       "      <td>1</td>\n",
       "      <td>4</td>\n",
       "      <td>7</td>\n",
       "    </tr>\n",
       "    <tr>\n",
       "      <th>1</th>\n",
       "      <td>2</td>\n",
       "      <td>5</td>\n",
       "      <td>5</td>\n",
       "    </tr>\n",
       "    <tr>\n",
       "      <th>2</th>\n",
       "      <td>3</td>\n",
       "      <td>6</td>\n",
       "      <td>8</td>\n",
       "    </tr>\n",
       "    <tr>\n",
       "      <th>3</th>\n",
       "      <td>4</td>\n",
       "      <td>9</td>\n",
       "      <td>12</td>\n",
       "    </tr>\n",
       "    <tr>\n",
       "      <th>4</th>\n",
       "      <td>7</td>\n",
       "      <td>5</td>\n",
       "      <td>1</td>\n",
       "    </tr>\n",
       "    <tr>\n",
       "      <th>5</th>\n",
       "      <td>11</td>\n",
       "      <td>0</td>\n",
       "      <td>11</td>\n",
       "    </tr>\n",
       "  </tbody>\n",
       "</table>\n",
       "</div>"
      ],
      "text/plain": [
       "   col1  col2  col3\n",
       "0     1     4     7\n",
       "1     2     5     5\n",
       "2     3     6     8\n",
       "3     4     9    12\n",
       "4     7     5     1\n",
       "5    11     0    11"
      ]
     },
     "execution_count": 43,
     "metadata": {},
     "output_type": "execute_result"
    }
   ],
   "source": [
    "# 8. 1st column of DataFrame to a series\n",
    "d1 = {'col1': [1, 2, 3, 4, 7, 11], 'col2': [4, 5, 6, 9, 5, 0], 'col3': [7, 5, 8, 12, 1, 11]}\n",
    "df = pd.DataFrame(d1)\n",
    "df"
   ]
  },
  {
   "cell_type": "code",
   "execution_count": 48,
   "id": "9477f4ac-4add-4d17-8621-9acebeb2ad2a",
   "metadata": {},
   "outputs": [
    {
     "data": {
      "text/plain": [
       "0     1\n",
       "1     2\n",
       "2     3\n",
       "3     4\n",
       "4     7\n",
       "5    11\n",
       "Name: col1, dtype: int64"
      ]
     },
     "execution_count": 48,
     "metadata": {},
     "output_type": "execute_result"
    }
   ],
   "source": [
    "(df['col1'])"
   ]
  },
  {
   "cell_type": "code",
   "execution_count": 49,
   "id": "6814293b-fd25-4da4-921e-015be33cc956",
   "metadata": {},
   "outputs": [
    {
     "data": {
      "text/plain": [
       "0     4\n",
       "1     5\n",
       "2    11\n",
       "3    22\n",
       "4     9\n",
       "dtype: int64"
      ]
     },
     "execution_count": 49,
     "metadata": {},
     "output_type": "execute_result"
    }
   ],
   "source": [
    "# 9. series to an array\n",
    "s1 = pd.Series([4, 5, 11, 22, 9])\n",
    "s1"
   ]
  },
  {
   "cell_type": "code",
   "execution_count": 50,
   "id": "308e8be9-f7e7-42db-a48b-e73e9038879a",
   "metadata": {},
   "outputs": [
    {
     "data": {
      "text/plain": [
       "array([ 4,  5, 11, 22,  9], dtype=int64)"
      ]
     },
     "execution_count": 50,
     "metadata": {},
     "output_type": "execute_result"
    }
   ],
   "source": [
    "np.array(s1)"
   ]
  },
  {
   "cell_type": "code",
   "execution_count": 56,
   "id": "75d71aa5-f293-4527-a0bb-65ce56bafab5",
   "metadata": {},
   "outputs": [
    {
     "data": {
      "text/plain": [
       "0      red\n",
       "1    green\n",
       "2    white\n",
       "3      red\n",
       "4    black\n",
       "5     pink\n",
       "dtype: object"
      ]
     },
     "execution_count": 56,
     "metadata": {},
     "output_type": "execute_result"
    }
   ],
   "source": [
    "# 10. series of list to one list\n",
    "s = pd.Series([['red', 'green', 'white'],['red', 'black'],['pink']])\n",
    "ser = s.apply(pd.Series).stack().reset_index(drop=True)\n",
    "ser"
   ]
  },
  {
   "cell_type": "code",
   "execution_count": 64,
   "id": "8831a15b-b3fb-4ff2-a4d4-11f69c65ae71",
   "metadata": {},
   "outputs": [
    {
     "data": {
      "text/plain": [
       "0       100\n",
       "1       200\n",
       "3    300.12\n",
       "4       400\n",
       "2    python\n",
       "dtype: object"
      ]
     },
     "execution_count": 64,
     "metadata": {},
     "output_type": "execute_result"
    }
   ],
   "source": [
    "# 11.Pandas program to sort a given Series\n",
    "s1 = pd.Series(['100','200','python','300.12','400'])\n",
    "s2 = pd.Series(s1).sort_values()\n",
    "s2"
   ]
  },
  {
   "cell_type": "code",
   "execution_count": 70,
   "id": "c1bf5f0b-51b5-4cc6-8b68-699a12e9aa9f",
   "metadata": {},
   "outputs": [
    {
     "data": {
      "text/plain": [
       "0       100\n",
       "1       200\n",
       "2    python\n",
       "3    300.12\n",
       "4       400\n",
       "5       500\n",
       "6       php\n",
       "dtype: object"
      ]
     },
     "execution_count": 70,
     "metadata": {},
     "output_type": "execute_result"
    }
   ],
   "source": [
    "# 12. Write a Pandas program to add some data to an existing Series.\n",
    "s1 = pd.Series(['100','200','python','300.12','400'])\n",
    "s2 = pd.Series(['500','php'])\n",
    "snew = pd.concat([s1,s2],ignore_index=True)\n",
    "snew"
   ]
  },
  {
   "cell_type": "code",
   "execution_count": 75,
   "id": "e30cef6c-4b1c-4c63-9d36-44d3162898e5",
   "metadata": {},
   "outputs": [
    {
     "data": {
      "text/plain": [
       "0      0\n",
       "1      1\n",
       "2      2\n",
       "3      3\n",
       "4      4\n",
       "5      5\n",
       "6      6\n",
       "7      7\n",
       "8      8\n",
       "9      9\n",
       "10    10\n",
       "dtype: int32"
      ]
     },
     "execution_count": 75,
     "metadata": {},
     "output_type": "execute_result"
    }
   ],
   "source": [
    "# 13.Write a Pandas program to create a subset of a given series based on value and condition.\n",
    "a = np.arange(0,11)\n",
    "a\n",
    "s1 = pd.Series(a)\n",
    "s1"
   ]
  },
  {
   "cell_type": "code",
   "execution_count": 76,
   "id": "ef55fe2d-1153-4272-9dde-587094e3bb70",
   "metadata": {},
   "outputs": [
    {
     "data": {
      "text/plain": [
       "0    0\n",
       "1    1\n",
       "2    2\n",
       "3    3\n",
       "4    4\n",
       "5    5\n",
       "dtype: int32"
      ]
     },
     "execution_count": 76,
     "metadata": {},
     "output_type": "execute_result"
    }
   ],
   "source": [
    "s1[s1<6]"
   ]
  },
  {
   "cell_type": "code",
   "execution_count": 79,
   "id": "383379e0-9f1a-449a-b01f-f088ba0375e3",
   "metadata": {},
   "outputs": [
    {
     "data": {
      "text/plain": [
       "A    1\n",
       "B    2\n",
       "C    3\n",
       "D    4\n",
       "E    5\n",
       "dtype: int64"
      ]
     },
     "execution_count": 79,
     "metadata": {},
     "output_type": "execute_result"
    }
   ],
   "source": [
    "# 14. Write a pandas program to change the order of the index of a given series.\n",
    "s1 = pd.Series(data=[1,2,3,4,5],index=['A','B','C','D','E'])\n",
    "s1"
   ]
  },
  {
   "cell_type": "code",
   "execution_count": 80,
   "id": "82f79786-70e7-432e-a298-9577c9b09d90",
   "metadata": {},
   "outputs": [
    {
     "data": {
      "text/plain": [
       "B    2\n",
       "A    1\n",
       "C    3\n",
       "D    4\n",
       "E    5\n",
       "dtype: int64"
      ]
     },
     "execution_count": 80,
     "metadata": {},
     "output_type": "execute_result"
    }
   ],
   "source": [
    "s1 = s1.reindex(index=['B','A','C','D','E'])\n",
    "s1"
   ]
  },
  {
   "cell_type": "code",
   "execution_count": 81,
   "id": "7b103acf-b6b0-4731-91f9-beddb04eb267",
   "metadata": {},
   "outputs": [
    {
     "data": {
      "text/plain": [
       "0     1\n",
       "1     2\n",
       "2     3\n",
       "3     4\n",
       "4     5\n",
       "5     6\n",
       "6     7\n",
       "7     8\n",
       "8     9\n",
       "9     5\n",
       "10    3\n",
       "dtype: int64"
      ]
     },
     "execution_count": 81,
     "metadata": {},
     "output_type": "execute_result"
    }
   ],
   "source": [
    "# 15. Write a Pandas program to create the mean and standard deviation of the data of a given Series.\n",
    "s1 = pd.Series([1,2,3,4,5,6,7,8,9,5,3])\n",
    "s1"
   ]
  },
  {
   "cell_type": "code",
   "execution_count": 83,
   "id": "f5ae5f15-3ed4-4061-a395-815658c2f173",
   "metadata": {},
   "outputs": [
    {
     "name": "stdout",
     "output_type": "stream",
     "text": [
      "Mean of the said Data Series: \n"
     ]
    },
    {
     "data": {
      "text/plain": [
       "4.818181818181818"
      ]
     },
     "execution_count": 83,
     "metadata": {},
     "output_type": "execute_result"
    }
   ],
   "source": [
    "print(\"Mean of the said Data Series: \")\n",
    "s1.mean()"
   ]
  },
  {
   "cell_type": "code",
   "execution_count": 84,
   "id": "8bfa9d67-3225-4327-a19e-ac5e7dd0a93f",
   "metadata": {},
   "outputs": [
    {
     "name": "stdout",
     "output_type": "stream",
     "text": [
      "Standard deviation of the said Data Series: \n"
     ]
    },
    {
     "data": {
      "text/plain": [
       "2.522624895547565"
      ]
     },
     "execution_count": 84,
     "metadata": {},
     "output_type": "execute_result"
    }
   ],
   "source": [
    "print(\"Standard deviation of the said Data Series: \")\n",
    "s1.std()"
   ]
  },
  {
   "cell_type": "code",
   "execution_count": 85,
   "id": "d52a4896-6df8-4c8a-a90f-b96a3c74cbae",
   "metadata": {},
   "outputs": [
    {
     "data": {
      "text/plain": [
       "0    1\n",
       "1    2\n",
       "2    3\n",
       "3    4\n",
       "4    5\n",
       "dtype: int64"
      ]
     },
     "execution_count": 85,
     "metadata": {},
     "output_type": "execute_result"
    }
   ],
   "source": [
    "# 16.Write a Pandas program to get the items of a given series not present in another given series.\n",
    "s1 = pd.Series([1,2,3,4,5])\n",
    "s1"
   ]
  },
  {
   "cell_type": "code",
   "execution_count": 99,
   "id": "7a53d684-e396-47e7-859e-682a5f18347a",
   "metadata": {},
   "outputs": [
    {
     "data": {
      "text/plain": [
       "0     2\n",
       "1     4\n",
       "2     6\n",
       "3     8\n",
       "4    10\n",
       "dtype: int64"
      ]
     },
     "execution_count": 99,
     "metadata": {},
     "output_type": "execute_result"
    }
   ],
   "source": [
    "s2 = pd.Series([2,4,6,8,10])\n",
    "s2"
   ]
  },
  {
   "cell_type": "code",
   "execution_count": 100,
   "id": "1e3d1639-e93c-48c7-919b-04d321c40947",
   "metadata": {},
   "outputs": [
    {
     "data": {
      "text/plain": [
       "0    1\n",
       "2    3\n",
       "4    5\n",
       "dtype: int64"
      ]
     },
     "execution_count": 100,
     "metadata": {},
     "output_type": "execute_result"
    }
   ],
   "source": [
    "s1[~s1.isin(s2)]"
   ]
  },
  {
   "cell_type": "code",
   "execution_count": 106,
   "id": "84d22d13-75f1-4b93-82bb-5ec1fce6fa5a",
   "metadata": {},
   "outputs": [
    {
     "data": {
      "text/plain": [
       "0    1\n",
       "2    3\n",
       "4    5\n",
       "dtype: int64"
      ]
     },
     "execution_count": 106,
     "metadata": {},
     "output_type": "execute_result"
    }
   ],
   "source": [
    "# 17.Write a Pandas program to get the items which are not common of two given series.\n",
    "s1 = pd.Series([1,2,3,4,5])\n",
    "s2 = pd.Series([2,4,6,8,10])\n",
    "s1 = pd.Series(np.union1d(s1,s2))\n",
    "s2 = pd.Series(np.intersect1d(s1,s2))\n",
    "result = s1[~s1.isin(s2)]\n",
    "result"
   ]
  },
  {
   "cell_type": "code",
   "execution_count": 113,
   "id": "75be3a08-cdb8-4fb4-ac5a-806220d629f9",
   "metadata": {},
   "outputs": [
    {
     "data": {
      "text/plain": [
       "0      3.000938\n",
       "1     11.370722\n",
       "2     14.612143\n",
       "3      8.990256\n",
       "4     13.925283\n",
       "5     12.056875\n",
       "6     10.884719\n",
       "7      5.719827\n",
       "8      9.242017\n",
       "9     11.020006\n",
       "10     8.167892\n",
       "11    11.740654\n",
       "12     7.665620\n",
       "13    13.267388\n",
       "14    12.690883\n",
       "15     9.582355\n",
       "16     7.874878\n",
       "17    14.118931\n",
       "18     8.247458\n",
       "19     5.526727\n",
       "dtype: float64"
      ]
     },
     "execution_count": 113,
     "metadata": {},
     "output_type": "execute_result"
    }
   ],
   "source": [
    "# 18. program to compute the minimum, 25th percentile, median, 75th, and maximum of a given series.\n",
    "s1 = np.random.RandomState(100)\n",
    "s1 = pd.Series(s1.normal(10,4,20))\n",
    "s1"
   ]
  },
  {
   "cell_type": "code",
   "execution_count": 115,
   "id": "da40dd0a-c08e-4c0d-8837-a930c99a0c54",
   "metadata": {},
   "outputs": [
    {
     "data": {
      "text/plain": [
       "array([ 3.00093811,  8.09463867, 10.23353705, 12.21537733, 14.61214321])"
      ]
     },
     "execution_count": 115,
     "metadata": {},
     "output_type": "execute_result"
    }
   ],
   "source": [
    "result = np.percentile(s1,q=[0,25,50,75,100])\n",
    "result"
   ]
  },
  {
   "cell_type": "code",
   "execution_count": 130,
   "id": "6f8b5f5f-1fe5-4470-82fd-e0a0ee9284c0",
   "metadata": {},
   "outputs": [
    {
     "data": {
      "text/plain": [
       "9    9\n",
       "4    7\n",
       "6    6\n",
       "3    5\n",
       "7    4\n",
       "0    3\n",
       "8    2\n",
       "1    2\n",
       "2    1\n",
       "5    1\n",
       "Name: count, dtype: int64"
      ]
     },
     "execution_count": 130,
     "metadata": {},
     "output_type": "execute_result"
    }
   ],
   "source": [
    "# 19.Write a Pandas program to calculate the frequency counts of each unique value of a given series.\n",
    "s1 = pd.Series(np.take(list('0123456789'),np.random.randint(10,size=40)))\n",
    "s1\n",
    "res = s1.value_counts()\n",
    "res"
   ]
  },
  {
   "cell_type": "code",
   "execution_count": 131,
   "id": "dace89e2-aa73-4080-936a-db3ddf290a96",
   "metadata": {},
   "outputs": [
    {
     "data": {
      "text/plain": [
       "0    9\n",
       "dtype: object"
      ]
     },
     "execution_count": 131,
     "metadata": {},
     "output_type": "execute_result"
    }
   ],
   "source": [
    "# 20. display most frequent, and replace everything else with 'Other'\n",
    "s1.mode()"
   ]
  },
  {
   "cell_type": "code",
   "execution_count": 134,
   "id": "4cc7438f-101c-4ed9-a737-5129b78bebd2",
   "metadata": {},
   "outputs": [
    {
     "data": {
      "text/plain": [
       "0     Other\n",
       "1     Other\n",
       "2         9\n",
       "3     Other\n",
       "4     Other\n",
       "5     Other\n",
       "6     Other\n",
       "7         9\n",
       "8     Other\n",
       "9     Other\n",
       "10    Other\n",
       "11        9\n",
       "12    Other\n",
       "13        9\n",
       "14    Other\n",
       "15    Other\n",
       "16    Other\n",
       "17    Other\n",
       "18        9\n",
       "19        9\n",
       "20    Other\n",
       "21    Other\n",
       "22        9\n",
       "23    Other\n",
       "24    Other\n",
       "25        9\n",
       "26    Other\n",
       "27    Other\n",
       "28    Other\n",
       "29    Other\n",
       "30    Other\n",
       "31    Other\n",
       "32        9\n",
       "33    Other\n",
       "34    Other\n",
       "35    Other\n",
       "36    Other\n",
       "37    Other\n",
       "38    Other\n",
       "39    Other\n",
       "dtype: object"
      ]
     },
     "execution_count": 134,
     "metadata": {},
     "output_type": "execute_result"
    }
   ],
   "source": [
    "freq = s1.mode()[0]\n",
    "res = s1.where(s1 == freq, 'Other')\n",
    "# 3res"
   ]
  },
  {
   "cell_type": "code",
   "execution_count": 137,
   "id": "12c821c1-6ace-4655-bf81-9f42a624cbaf",
   "metadata": {},
   "outputs": [
    {
     "data": {
      "text/plain": [
       "4     95\n",
       "6    105\n",
       "8     10\n",
       "dtype: int64"
      ]
     },
     "execution_count": 137,
     "metadata": {},
     "output_type": "execute_result"
    }
   ],
   "source": [
    "# 21. posistion of numbers that are multiple of 5\n",
    "s1 = pd.Series([1, 9, 8, 6, 95, 7, 105, 1, 10])\n",
    "s1[s1%5==0]"
   ]
  },
  {
   "cell_type": "code",
   "execution_count": 141,
   "id": "66f815b1-3708-4bc1-ae6f-655a0c521f61",
   "metadata": {},
   "outputs": [
    {
     "data": {
      "text/plain": [
       "7"
      ]
     },
     "execution_count": 141,
     "metadata": {},
     "output_type": "execute_result"
    }
   ],
   "source": [
    "# 22. extract items at a given position of a series\n",
    "s1 = pd.Series([4, 5, 7, 9, 10, 44])\n",
    "s1[2]"
   ]
  },
  {
   "cell_type": "code",
   "execution_count": 142,
   "id": "8f71b601-e3bb-4625-b661-de9c83fb16fd",
   "metadata": {},
   "outputs": [
    {
     "data": {
      "text/plain": [
       "0     1\n",
       "1     2\n",
       "2     3\n",
       "3     4\n",
       "4     5\n",
       "5     6\n",
       "6     7\n",
       "7     8\n",
       "8     9\n",
       "9    10\n",
       "dtype: int64"
      ]
     },
     "execution_count": 142,
     "metadata": {},
     "output_type": "execute_result"
    }
   ],
   "source": [
    "# 23. to get positions of a given series\n",
    "s1 = pd.Series([1,2,3,4,5,6,7,8,9,10])\n",
    "s1"
   ]
  },
  {
   "cell_type": "code",
   "execution_count": 140,
   "id": "8b2ee00f-f31b-4e23-bbfc-37be9391e128",
   "metadata": {},
   "outputs": [
    {
     "data": {
      "text/plain": [
       "0     1\n",
       "1     3\n",
       "2     5\n",
       "3     7\n",
       "4    10\n",
       "dtype: int64"
      ]
     },
     "execution_count": 140,
     "metadata": {},
     "output_type": "execute_result"
    }
   ],
   "source": [
    "s2 = pd.Series([1,3,5,7,10])\n",
    "s2"
   ]
  },
  {
   "cell_type": "code",
   "execution_count": 145,
   "id": "f52e7c65-7630-49b8-8092-0b4e48fd0530",
   "metadata": {},
   "outputs": [
    {
     "data": {
      "text/plain": [
       "0       PhP\n",
       "1    PythoN\n",
       "2      JavA\n",
       "3        C#\n",
       "dtype: object"
      ]
     },
     "execution_count": 145,
     "metadata": {},
     "output_type": "execute_result"
    }
   ],
   "source": [
    " # 24. convert 1st and last character of each word to upper case in each word \n",
    "s1 = pd.Series(['php', 'python', 'java', 'c#'])\n",
    "res = s1.map(lambda x: x[0].upper() + x[1:-1] + x[-1].upper())\n",
    "res"
   ]
  },
  {
   "cell_type": "code",
   "execution_count": 147,
   "id": "3db0e0e2-3462-4423-9843-81334ac60206",
   "metadata": {},
   "outputs": [
    {
     "data": {
      "text/plain": [
       "0    3\n",
       "1    6\n",
       "2    4\n",
       "3    2\n",
       "dtype: int64"
      ]
     },
     "execution_count": 147,
     "metadata": {},
     "output_type": "execute_result"
    }
   ],
   "source": [
    "# 25.Write a Pandas program to calculate the number of characters in each word in a given series.\n",
    "s1 = pd.Series(['php', 'python', 'java', 'c#'])\n",
    "s1.map(lambda x: len(x))"
   ]
  },
  {
   "cell_type": "code",
   "execution_count": 150,
   "id": "481ee4eb-1ab3-4dcc-8ab3-8c818ecf0e11",
   "metadata": {},
   "outputs": [
    {
     "data": {
      "text/plain": [
       "0    NaN\n",
       "1    2.0\n",
       "2    2.0\n",
       "3    3.0\n",
       "4    2.0\n",
       "5    1.0\n",
       "6    4.0\n",
       "dtype: float64"
      ]
     },
     "execution_count": 150,
     "metadata": {},
     "output_type": "execute_result"
    }
   ],
   "source": [
    "# 26.Write a Pandas program to compute difference of differences between consecutive numbers of a given series.\n",
    "s1 = pd.Series([1,3,5,8,10,11,15])\n",
    "s2 = s1.diff()\n",
    "s2"
   ]
  },
  {
   "cell_type": "code",
   "execution_count": 151,
   "id": "ab93a837-0888-46e0-9cfb-e140885e061e",
   "metadata": {},
   "outputs": [
    {
     "data": {
      "text/plain": [
       "0    NaN\n",
       "1    NaN\n",
       "2    0.0\n",
       "3    1.0\n",
       "4   -1.0\n",
       "5   -1.0\n",
       "6    3.0\n",
       "dtype: float64"
      ]
     },
     "execution_count": 151,
     "metadata": {},
     "output_type": "execute_result"
    }
   ],
   "source": [
    "s2.diff()"
   ]
  },
  {
   "cell_type": "code",
   "execution_count": 153,
   "id": "0218d344-7df3-480c-bef4-38501d55b90e",
   "metadata": {},
   "outputs": [
    {
     "data": {
      "text/plain": [
       "0         01 Jan 2015\n",
       "1          10-02-2016\n",
       "2            20180307\n",
       "3          2014/05/06\n",
       "4          2016-04-12\n",
       "5    2019-04-06T11:20\n",
       "dtype: object"
      ]
     },
     "execution_count": 153,
     "metadata": {},
     "output_type": "execute_result"
    }
   ],
   "source": [
    "# 27. Write a Pandas program to convert a series of date strings to a timeseries.\n",
    "s1 = pd.Series(['01 Jan 2015','10-02-2016','20180307','2014/05/06','2016-04-12','2019-04-06T11:20'])\n",
    "s1"
   ]
  },
  {
   "cell_type": "code",
   "execution_count": 157,
   "id": "ca378401-b6de-42be-b1b3-260a46b0114e",
   "metadata": {},
   "outputs": [],
   "source": [
    "# pd.to_datetime(s1)"
   ]
  },
  {
   "cell_type": "code",
   "execution_count": 182,
   "id": "94f38a6d-8f4b-4fb3-b96a-dd4a00e83cbb",
   "metadata": {},
   "outputs": [
    {
     "data": {
      "text/plain": [
       "0         01 Jan 2015\n",
       "1          10-02-2016\n",
       "2            20180307\n",
       "3          2014/05/06\n",
       "4          2016-04-12\n",
       "5    2019-04-06T11:20\n",
       "dtype: object"
      ]
     },
     "execution_count": 182,
     "metadata": {},
     "output_type": "execute_result"
    }
   ],
   "source": [
    "# 28.Write a Pandas program to get the day of month, day of year, week number and day of week from a given series of date strings.\n",
    "from dateutil.parser import parse\n",
    "import datetime\n",
    "\n",
    "s1 = pd.Series(['01 Jan 2015','10-02-2016','20180307','2014/05/06','2016-04-12','2019-04-06T11:20'])\n",
    "s1"
   ]
  },
  {
   "cell_type": "code",
   "execution_count": 191,
   "id": "12afca1e-58ce-4c60-81a4-ce14a1c222f1",
   "metadata": {},
   "outputs": [
    {
     "data": {
      "text/plain": [
       "0   2015-01-01 00:00:00\n",
       "1   2016-10-02 00:00:00\n",
       "2   2018-03-07 00:00:00\n",
       "3   2014-05-06 00:00:00\n",
       "4   2016-04-12 00:00:00\n",
       "5   2019-04-06 11:20:00\n",
       "dtype: datetime64[ns]"
      ]
     },
     "execution_count": 191,
     "metadata": {},
     "output_type": "execute_result"
    }
   ],
   "source": [
    "s1 = pd.to_datetime(s1,format='mixed')\n",
    "s1"
   ]
  },
  {
   "cell_type": "code",
   "execution_count": 192,
   "id": "ac3d3352-2bac-45b1-8e08-f4bfdc7ba0a4",
   "metadata": {},
   "outputs": [
    {
     "data": {
      "text/plain": [
       "0     1\n",
       "1     2\n",
       "2     7\n",
       "3     6\n",
       "4    12\n",
       "5     6\n",
       "dtype: int32"
      ]
     },
     "execution_count": 192,
     "metadata": {},
     "output_type": "execute_result"
    }
   ],
   "source": [
    "s1.dt.day"
   ]
  },
  {
   "cell_type": "code",
   "execution_count": 193,
   "id": "37b3f12c-732c-4dec-8fcd-94da426072eb",
   "metadata": {},
   "outputs": [
    {
     "data": {
      "text/plain": [
       "0     1\n",
       "1    10\n",
       "2     3\n",
       "3     5\n",
       "4     4\n",
       "5     4\n",
       "dtype: int32"
      ]
     },
     "execution_count": 193,
     "metadata": {},
     "output_type": "execute_result"
    }
   ],
   "source": [
    "s1.dt.month"
   ]
  },
  {
   "cell_type": "code",
   "execution_count": 194,
   "id": "5b94ca11-5d39-47ca-94a9-849c0f798285",
   "metadata": {},
   "outputs": [
    {
     "data": {
      "text/plain": [
       "0    2015\n",
       "1    2016\n",
       "2    2018\n",
       "3    2014\n",
       "4    2016\n",
       "5    2019\n",
       "dtype: int32"
      ]
     },
     "execution_count": 194,
     "metadata": {},
     "output_type": "execute_result"
    }
   ],
   "source": [
    "s1.dt.year"
   ]
  },
  {
   "cell_type": "code",
   "execution_count": 197,
   "id": "867a84a4-a4ba-4780-b638-8fb46ee7047c",
   "metadata": {},
   "outputs": [
    {
     "data": {
      "text/plain": [
       "0    Jan 2015\n",
       "1    Feb 2016\n",
       "2    Mar 2017\n",
       "3    Apr 2018\n",
       "4    May 2019\n",
       "dtype: object"
      ]
     },
     "execution_count": 197,
     "metadata": {},
     "output_type": "execute_result"
    }
   ],
   "source": [
    "# 29. Write a Pandas program to convert year-month string to dates adding a specified day of the month.\n",
    "s1 = pd.Series(['Jan 2015','Feb 2016','Mar 2017','Apr 2018','May 2019'])\n",
    "s1"
   ]
  },
  {
   "cell_type": "code",
   "execution_count": 200,
   "id": "f0dd6b90-afc0-434d-9fdc-8d8db36e670d",
   "metadata": {},
   "outputs": [
    {
     "data": {
      "text/plain": [
       "0   2015-01-11\n",
       "1   2016-02-11\n",
       "2   2017-03-11\n",
       "3   2018-04-11\n",
       "4   2019-05-11\n",
       "dtype: datetime64[ns]"
      ]
     },
     "execution_count": 200,
     "metadata": {},
     "output_type": "execute_result"
    }
   ],
   "source": [
    "res = s1.map(lambda d:parse('11'+d))\n",
    "res"
   ]
  },
  {
   "cell_type": "code",
   "execution_count": 206,
   "id": "3d4c15b6-be42-4e3b-91de-4d4cb0907dfa",
   "metadata": {},
   "outputs": [
    {
     "data": {
      "text/plain": [
       "0       Red\n",
       "1     Green\n",
       "2    Orange\n",
       "3      Pink\n",
       "4    Yellow\n",
       "5     White\n",
       "dtype: object"
      ]
     },
     "execution_count": 206,
     "metadata": {},
     "output_type": "execute_result"
    }
   ],
   "source": [
    "# 30. Write a Pandas program to filter words from a given series that contain atleast two vowels.\n",
    "s1 = pd.Series(['Red','Green','Orange','Pink','Yellow','White'])\n",
    "s1"
   ]
  },
  {
   "cell_type": "code",
   "execution_count": 209,
   "id": "aa14c80f-a760-44df-af4c-eee169dd0e9f",
   "metadata": {},
   "outputs": [],
   "source": [
    "# res = s1.map(lambda c: sum([Counter(c.lower()).get(i,0)for i in list('aeiou')])>=2)    \n"
   ]
  },
  {
   "cell_type": "code",
   "execution_count": 214,
   "id": "e13404d3-4d69-4550-aea6-18825cf3c055",
   "metadata": {},
   "outputs": [
    {
     "data": {
      "text/plain": [
       "16.492422502470642"
      ]
     },
     "execution_count": 214,
     "metadata": {},
     "output_type": "execute_result"
    }
   ],
   "source": [
    "# 31. Write a Pandas program to compute the Euclidean distance between two given series.\n",
    "n1 = np.arange(1,11)\n",
    "s1 = pd.Series(n1)\n",
    "s2 = pd.Series([11,8,7,5,6,5,3,4,7,1])\n",
    "np.linalg.norm(s1-s2)"
   ]
  },
  {
   "cell_type": "code",
   "execution_count": 216,
   "id": "6c7b52ed-fdc6-4ea9-857e-f466a68e9fb6",
   "metadata": {},
   "outputs": [
    {
     "data": {
      "text/plain": [
       "0    1\n",
       "1    8\n",
       "2    7\n",
       "3    5\n",
       "4    6\n",
       "5    5\n",
       "6    3\n",
       "7    4\n",
       "8    7\n",
       "9    1\n",
       "dtype: int64"
      ]
     },
     "execution_count": 216,
     "metadata": {},
     "output_type": "execute_result"
    }
   ],
   "source": [
    "# 32. Write a Pandas program to find the positions of the values neighboured by smaller values on both sides in a given series.\n",
    "s1 = pd.Series([1,8,7,5,6,5,3,4,7,1])\n",
    "s1"
   ]
  },
  {
   "cell_type": "code",
   "execution_count": 219,
   "id": "e7da2e57-143a-437d-adb8-93203a1b843c",
   "metadata": {},
   "outputs": [
    {
     "data": {
      "text/plain": [
       "array([1, 4, 8], dtype=int64)"
      ]
     },
     "execution_count": 219,
     "metadata": {},
     "output_type": "execute_result"
    }
   ],
   "source": [
    "temp = np.diff(np.sign(np.diff(s1)))\n",
    "res = np.where(temp==-2)[0]+1\n",
    "res"
   ]
  },
  {
   "cell_type": "code",
   "execution_count": 220,
   "id": "4aeeac83-b5d3-4d38-a9a8-9b937aad7056",
   "metadata": {},
   "outputs": [
    {
     "data": {
      "text/plain": [
       "'abc def abcdef icd'"
      ]
     },
     "execution_count": 220,
     "metadata": {},
     "output_type": "execute_result"
    }
   ],
   "source": [
    "# 33. Write a Pandas program to replace missing white spaces in a given string with the least frequent character.\n",
    "s1 = 'abc def abcdef icd'\n",
    "s1"
   ]
  },
  {
   "cell_type": "code",
   "execution_count": 222,
   "id": "db0fb059-c26c-49c0-8e87-f9d8539948e8",
   "metadata": {},
   "outputs": [
    {
     "data": {
      "text/plain": [
       "0     a\n",
       "1     b\n",
       "2     c\n",
       "3      \n",
       "4     d\n",
       "5     e\n",
       "6     f\n",
       "7      \n",
       "8     a\n",
       "9     b\n",
       "10    c\n",
       "11    d\n",
       "12    e\n",
       "13    f\n",
       "14     \n",
       "15    i\n",
       "16    c\n",
       "17    d\n",
       "dtype: object"
      ]
     },
     "execution_count": 222,
     "metadata": {},
     "output_type": "execute_result"
    }
   ],
   "source": [
    "ser = pd.Series(list(s1))\n",
    "ser"
   ]
  },
  {
   "cell_type": "code",
   "execution_count": 224,
   "id": "2edfb154-4127-4add-b833-839fe77ef4a8",
   "metadata": {},
   "outputs": [
    {
     "data": {
      "text/plain": [
       "c    3\n",
       "     3\n",
       "d    3\n",
       "a    2\n",
       "b    2\n",
       "e    2\n",
       "f    2\n",
       "i    1\n",
       "Name: count, dtype: int64"
      ]
     },
     "execution_count": 224,
     "metadata": {},
     "output_type": "execute_result"
    }
   ],
   "source": [
    "element_freq = ser.value_counts()\n",
    "element_freq"
   ]
  },
  {
   "cell_type": "code",
   "execution_count": 225,
   "id": "804e0969-1715-4106-a16f-5379165aa484",
   "metadata": {},
   "outputs": [
    {
     "data": {
      "text/plain": [
       "'abcidefiabcdefiicd'"
      ]
     },
     "execution_count": 225,
     "metadata": {},
     "output_type": "execute_result"
    }
   ],
   "source": [
    "current_freq = element_freq.dropna().index[-1]\n",
    "result = \"\".join(ser.replace(' ',current_freq))\n",
    "result"
   ]
  },
  {
   "cell_type": "code",
   "execution_count": 226,
   "id": "a7376519-a2e9-4a91-a71d-d80391712478",
   "metadata": {},
   "outputs": [
    {
     "data": {
      "text/plain": [
       "0      6.282386\n",
       "1     13.145129\n",
       "2      1.042370\n",
       "3      2.406047\n",
       "4      4.772776\n",
       "5      0.097318\n",
       "6     11.382632\n",
       "7      2.025045\n",
       "8     12.656032\n",
       "9     20.071962\n",
       "10    14.163085\n",
       "11    16.947623\n",
       "12     5.824107\n",
       "13     0.243504\n",
       "14    28.294236\n",
       "dtype: float64"
      ]
     },
     "execution_count": 226,
     "metadata": {},
     "output_type": "execute_result"
    }
   ],
   "source": [
    "# 34. Write a Pandas program to compute the autocorrelations of a given numeric series.\n",
    "s1 = pd.Series(np.arange(15)+np.random.normal(1,10,15))\n",
    "s1"
   ]
  },
  {
   "cell_type": "code",
   "execution_count": 227,
   "id": "df6551ab-e984-4ddb-a0f6-5a197dcf120f",
   "metadata": {},
   "outputs": [
    {
     "data": {
      "text/plain": [
       "[-0.01, 0.04, 0.22, -0.25, 0.42, -0.04, -0.43, 0.72, -0.2, 0.45]"
      ]
     },
     "execution_count": 227,
     "metadata": {},
     "output_type": "execute_result"
    }
   ],
   "source": [
    "auto = [s1.autocorr(i).round(2) for i in range(11)]\n",
    "auto[1:]"
   ]
  },
  {
   "cell_type": "code",
   "execution_count": 229,
   "id": "0405cbf4-048d-414e-96c4-7c056546c5ce",
   "metadata": {},
   "outputs": [
    {
     "name": "stdout",
     "output_type": "stream",
     "text": [
      "All Sundays of 2019:\n"
     ]
    },
    {
     "data": {
      "text/plain": [
       "0    2020-01-05\n",
       "1    2020-01-12\n",
       "2    2020-01-19\n",
       "3    2020-01-26\n",
       "4    2020-02-02\n",
       "5    2020-02-09\n",
       "6    2020-02-16\n",
       "7    2020-02-23\n",
       "8    2020-03-01\n",
       "9    2020-03-08\n",
       "10   2020-03-15\n",
       "11   2020-03-22\n",
       "12   2020-03-29\n",
       "13   2020-04-05\n",
       "14   2020-04-12\n",
       "15   2020-04-19\n",
       "16   2020-04-26\n",
       "17   2020-05-03\n",
       "18   2020-05-10\n",
       "19   2020-05-17\n",
       "20   2020-05-24\n",
       "21   2020-05-31\n",
       "22   2020-06-07\n",
       "23   2020-06-14\n",
       "24   2020-06-21\n",
       "25   2020-06-28\n",
       "26   2020-07-05\n",
       "27   2020-07-12\n",
       "28   2020-07-19\n",
       "29   2020-07-26\n",
       "30   2020-08-02\n",
       "31   2020-08-09\n",
       "32   2020-08-16\n",
       "33   2020-08-23\n",
       "34   2020-08-30\n",
       "35   2020-09-06\n",
       "36   2020-09-13\n",
       "37   2020-09-20\n",
       "38   2020-09-27\n",
       "39   2020-10-04\n",
       "40   2020-10-11\n",
       "41   2020-10-18\n",
       "42   2020-10-25\n",
       "43   2020-11-01\n",
       "44   2020-11-08\n",
       "45   2020-11-15\n",
       "46   2020-11-22\n",
       "47   2020-11-29\n",
       "48   2020-12-06\n",
       "49   2020-12-13\n",
       "50   2020-12-20\n",
       "51   2020-12-27\n",
       "dtype: datetime64[ns]"
      ]
     },
     "execution_count": 229,
     "metadata": {},
     "output_type": "execute_result"
    }
   ],
   "source": [
    "# 35. Write a Pandas program to create a TimeSeries to display all the Sundays of given year.\n",
    "result = pd.Series(pd.date_range('2020-01-01', periods=52, freq='W-SUN'))\n",
    "print(\"All Sundays of 2019:\")\n",
    "result"
   ]
  },
  {
   "cell_type": "code",
   "execution_count": 230,
   "id": "aa4b8bf1-b46a-4b4a-b833-28b562493eaf",
   "metadata": {},
   "outputs": [
    {
     "data": {
      "text/html": [
       "<div>\n",
       "<style scoped>\n",
       "    .dataframe tbody tr th:only-of-type {\n",
       "        vertical-align: middle;\n",
       "    }\n",
       "\n",
       "    .dataframe tbody tr th {\n",
       "        vertical-align: top;\n",
       "    }\n",
       "\n",
       "    .dataframe thead th {\n",
       "        text-align: right;\n",
       "    }\n",
       "</style>\n",
       "<table border=\"1\" class=\"dataframe\">\n",
       "  <thead>\n",
       "    <tr style=\"text-align: right;\">\n",
       "      <th></th>\n",
       "      <th>index</th>\n",
       "      <th>0</th>\n",
       "    </tr>\n",
       "  </thead>\n",
       "  <tbody>\n",
       "    <tr>\n",
       "      <th>0</th>\n",
       "      <td>A</td>\n",
       "      <td>0</td>\n",
       "    </tr>\n",
       "    <tr>\n",
       "      <th>1</th>\n",
       "      <td>B</td>\n",
       "      <td>1</td>\n",
       "    </tr>\n",
       "    <tr>\n",
       "      <th>2</th>\n",
       "      <td>C</td>\n",
       "      <td>2</td>\n",
       "    </tr>\n",
       "    <tr>\n",
       "      <th>3</th>\n",
       "      <td>D</td>\n",
       "      <td>3</td>\n",
       "    </tr>\n",
       "    <tr>\n",
       "      <th>4</th>\n",
       "      <td>E</td>\n",
       "      <td>4</td>\n",
       "    </tr>\n",
       "    <tr>\n",
       "      <th>5</th>\n",
       "      <td>F</td>\n",
       "      <td>5</td>\n",
       "    </tr>\n",
       "    <tr>\n",
       "      <th>6</th>\n",
       "      <td>G</td>\n",
       "      <td>6</td>\n",
       "    </tr>\n",
       "    <tr>\n",
       "      <th>7</th>\n",
       "      <td>H</td>\n",
       "      <td>7</td>\n",
       "    </tr>\n",
       "  </tbody>\n",
       "</table>\n",
       "</div>"
      ],
      "text/plain": [
       "  index  0\n",
       "0     A  0\n",
       "1     B  1\n",
       "2     C  2\n",
       "3     D  3\n",
       "4     E  4\n",
       "5     F  5\n",
       "6     G  6\n",
       "7     H  7"
      ]
     },
     "execution_count": 230,
     "metadata": {},
     "output_type": "execute_result"
    }
   ],
   "source": [
    "# 36. Write a Pandas program to convert given series into a dataframe with its index as another column on the dataframe\n",
    "char_list = list('ABCDEFGHIJKLMNOP')\n",
    "num_arra = np.arange(8)\n",
    "num_dict = dict(zip(char_list, num_arra))\n",
    "num_ser = pd.Series(num_dict)\n",
    "df = num_ser.to_frame().reset_index()\n",
    "df"
   ]
  },
  {
   "cell_type": "code",
   "execution_count": 235,
   "id": "c8a923dd-49c2-424c-85fa-78ba3cfa1d16",
   "metadata": {},
   "outputs": [
    {
     "name": "stdout",
     "output_type": "stream",
     "text": [
      "Original Series:\n"
     ]
    },
    {
     "data": {
      "text/plain": [
       "0    0\n",
       "1    1\n",
       "2    2\n",
       "3    3\n",
       "4    4\n",
       "5    5\n",
       "6    6\n",
       "7    7\n",
       "8    8\n",
       "9    9\n",
       "dtype: int64"
      ]
     },
     "execution_count": 235,
     "metadata": {},
     "output_type": "execute_result"
    }
   ],
   "source": [
    "# 37.Write a Pandas program to stack two given series vertically and horizontally.\n",
    "s1 = pd.Series(range(10))\n",
    "s2 = pd.Series(list('pqrstuvwxy'))\n",
    "print(\"Original Series:\")\n",
    "s1"
   ]
  },
  {
   "cell_type": "code",
   "execution_count": 238,
   "id": "9c829f73-5a92-4e5c-af94-dcdb657d3f2c",
   "metadata": {},
   "outputs": [
    {
     "name": "stdout",
     "output_type": "stream",
     "text": [
      "\n",
      "Stack two given series vertically and horizontally:\n"
     ]
    },
    {
     "data": {
      "text/html": [
       "<div>\n",
       "<style scoped>\n",
       "    .dataframe tbody tr th:only-of-type {\n",
       "        vertical-align: middle;\n",
       "    }\n",
       "\n",
       "    .dataframe tbody tr th {\n",
       "        vertical-align: top;\n",
       "    }\n",
       "\n",
       "    .dataframe thead th {\n",
       "        text-align: right;\n",
       "    }\n",
       "</style>\n",
       "<table border=\"1\" class=\"dataframe\">\n",
       "  <thead>\n",
       "    <tr style=\"text-align: right;\">\n",
       "      <th></th>\n",
       "      <th>0</th>\n",
       "      <th>1</th>\n",
       "    </tr>\n",
       "  </thead>\n",
       "  <tbody>\n",
       "    <tr>\n",
       "      <th>0</th>\n",
       "      <td>0</td>\n",
       "      <td>p</td>\n",
       "    </tr>\n",
       "    <tr>\n",
       "      <th>1</th>\n",
       "      <td>1</td>\n",
       "      <td>q</td>\n",
       "    </tr>\n",
       "    <tr>\n",
       "      <th>2</th>\n",
       "      <td>2</td>\n",
       "      <td>r</td>\n",
       "    </tr>\n",
       "    <tr>\n",
       "      <th>3</th>\n",
       "      <td>3</td>\n",
       "      <td>s</td>\n",
       "    </tr>\n",
       "    <tr>\n",
       "      <th>4</th>\n",
       "      <td>4</td>\n",
       "      <td>t</td>\n",
       "    </tr>\n",
       "    <tr>\n",
       "      <th>5</th>\n",
       "      <td>5</td>\n",
       "      <td>u</td>\n",
       "    </tr>\n",
       "    <tr>\n",
       "      <th>6</th>\n",
       "      <td>6</td>\n",
       "      <td>v</td>\n",
       "    </tr>\n",
       "    <tr>\n",
       "      <th>7</th>\n",
       "      <td>7</td>\n",
       "      <td>w</td>\n",
       "    </tr>\n",
       "    <tr>\n",
       "      <th>8</th>\n",
       "      <td>8</td>\n",
       "      <td>x</td>\n",
       "    </tr>\n",
       "    <tr>\n",
       "      <th>9</th>\n",
       "      <td>9</td>\n",
       "      <td>y</td>\n",
       "    </tr>\n",
       "  </tbody>\n",
       "</table>\n",
       "</div>"
      ],
      "text/plain": [
       "   0  1\n",
       "0  0  p\n",
       "1  1  q\n",
       "2  2  r\n",
       "3  3  s\n",
       "4  4  t\n",
       "5  5  u\n",
       "6  6  v\n",
       "7  7  w\n",
       "8  8  x\n",
       "9  9  y"
      ]
     },
     "execution_count": 238,
     "metadata": {},
     "output_type": "execute_result"
    }
   ],
   "source": [
    "df = pd.concat([s1, s2], axis=1)\n",
    "print(\"\\nStack two given series vertically and horizontally:\")\n",
    "df"
   ]
  },
  {
   "cell_type": "code",
   "execution_count": 239,
   "id": "20529f01-e312-48ca-90f9-64248cc128d8",
   "metadata": {},
   "outputs": [
    {
     "name": "stdout",
     "output_type": "stream",
     "text": [
      "Original Series:\n"
     ]
    },
    {
     "data": {
      "text/plain": [
       "0    1\n",
       "1    8\n",
       "2    7\n",
       "3    5\n",
       "4    6\n",
       "5    5\n",
       "6    3\n",
       "7    4\n",
       "8    7\n",
       "9    1\n",
       "dtype: int64"
      ]
     },
     "execution_count": 239,
     "metadata": {},
     "output_type": "execute_result"
    }
   ],
   "source": [
    "# 38. Write a Pandas program to check the equality of two given series.\n",
    "nums1 = pd.Series([1, 8, 7, 5, 6, 5, 3, 4, 7, 1])\n",
    "nums2 = pd.Series([1, 8, 7, 5, 6, 5, 3, 4, 7, 1])\n",
    "print(\"Original Series:\")\n",
    "nums1\n"
   ]
  },
  {
   "cell_type": "code",
   "execution_count": 241,
   "id": "081403ea-f363-431b-a1ce-b7079ee4e58c",
   "metadata": {},
   "outputs": [
    {
     "data": {
      "text/plain": [
       "0    1\n",
       "1    8\n",
       "2    7\n",
       "3    5\n",
       "4    6\n",
       "5    5\n",
       "6    3\n",
       "7    4\n",
       "8    7\n",
       "9    1\n",
       "dtype: int64"
      ]
     },
     "execution_count": 241,
     "metadata": {},
     "output_type": "execute_result"
    }
   ],
   "source": [
    "nums2\n"
   ]
  },
  {
   "cell_type": "code",
   "execution_count": 242,
   "id": "8ed58b78-31ce-4c01-8147-ee083e5bd3a7",
   "metadata": {},
   "outputs": [
    {
     "name": "stdout",
     "output_type": "stream",
     "text": [
      "Check 2 series are equal or not?\n"
     ]
    },
    {
     "data": {
      "text/plain": [
       "0    True\n",
       "1    True\n",
       "2    True\n",
       "3    True\n",
       "4    True\n",
       "5    True\n",
       "6    True\n",
       "7    True\n",
       "8    True\n",
       "9    True\n",
       "dtype: bool"
      ]
     },
     "execution_count": 242,
     "metadata": {},
     "output_type": "execute_result"
    }
   ],
   "source": [
    "print(\"Check 2 series are equal or not?\")\n",
    "nums1 == nums2"
   ]
  },
  {
   "cell_type": "code",
   "execution_count": 243,
   "id": "b7ea3c9f-f748-4b19-b53d-a293692e7e96",
   "metadata": {},
   "outputs": [
    {
     "name": "stdout",
     "output_type": "stream",
     "text": [
      "Original Series:\n"
     ]
    },
    {
     "data": {
      "text/plain": [
       "0     1\n",
       "1     3\n",
       "2     7\n",
       "3    12\n",
       "4    88\n",
       "5    23\n",
       "6     3\n",
       "7     1\n",
       "8     9\n",
       "9     0\n",
       "dtype: int64"
      ]
     },
     "execution_count": 243,
     "metadata": {},
     "output_type": "execute_result"
    }
   ],
   "source": [
    "# 39.Write a Pandas program to find the index of the first occurrence of the smallest and largest value of a given series.\n",
    "nums = pd.Series([1, 3, 7, 12, 88, 23, 3, 1, 9, 0])\n",
    "print(\"Original Series:\")\n",
    "nums\n"
   ]
  },
  {
   "cell_type": "code",
   "execution_count": 246,
   "id": "aa42e752-e23a-4c00-ae72-74fea872151c",
   "metadata": {},
   "outputs": [
    {
     "name": "stdout",
     "output_type": "stream",
     "text": [
      "Index of the first occurrence of the smallest value of the said series:\n"
     ]
    },
    {
     "data": {
      "text/plain": [
       "9"
      ]
     },
     "execution_count": 246,
     "metadata": {},
     "output_type": "execute_result"
    }
   ],
   "source": [
    "print(\"Index of the first occurrence of the smallest value of the said series:\")\n",
    "nums.idxmin()\n"
   ]
  },
  {
   "cell_type": "code",
   "execution_count": 248,
   "id": "db802cf2-12a5-4f29-a842-1cd2ce06e816",
   "metadata": {},
   "outputs": [
    {
     "name": "stdout",
     "output_type": "stream",
     "text": [
      "Index of the first occurrence of the largest value of the said series:\n"
     ]
    },
    {
     "data": {
      "text/plain": [
       "4"
      ]
     },
     "execution_count": 248,
     "metadata": {},
     "output_type": "execute_result"
    }
   ],
   "source": [
    "print(\"Index of the first occurrence of the largest value of the said series:\")\n",
    "nums.idxmax()"
   ]
  },
  {
   "cell_type": "code",
   "execution_count": null,
   "id": "8bd6cd1b-356b-4448-86b2-b6e1ebf8db0d",
   "metadata": {},
   "outputs": [],
   "source": [
    "# 40.Write a Pandas program to check inequality over the index axis of a given dataframe and a given series\n"
   ]
  }
 ],
 "metadata": {
  "kernelspec": {
   "display_name": "Python 3 (ipykernel)",
   "language": "python",
   "name": "python3"
  },
  "language_info": {
   "codemirror_mode": {
    "name": "ipython",
    "version": 3
   },
   "file_extension": ".py",
   "mimetype": "text/x-python",
   "name": "python",
   "nbconvert_exporter": "python",
   "pygments_lexer": "ipython3",
   "version": "3.12.4"
  }
 },
 "nbformat": 4,
 "nbformat_minor": 5
}
