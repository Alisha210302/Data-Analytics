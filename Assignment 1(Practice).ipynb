{
 "cells": [
  {
   "cell_type": "code",
   "execution_count": 1,
   "id": "429e5b8f-d113-444f-8ff5-4447576d6b80",
   "metadata": {},
   "outputs": [],
   "source": [
    "import numpy as np\n",
    "import pandas as pd"
   ]
  },
  {
   "cell_type": "code",
   "execution_count": 2,
   "id": "d1b626a0-c251-4cfb-9f79-6be2733f196d",
   "metadata": {},
   "outputs": [
    {
     "data": {
      "text/plain": [
       "'1.26.4'"
      ]
     },
     "execution_count": 2,
     "metadata": {},
     "output_type": "execute_result"
    }
   ],
   "source": [
    "#1.Write a NumPy program to get the numpy version and show numpy build configuration.\n",
    "np.__version__"
   ]
  },
  {
   "cell_type": "code",
   "execution_count": 5,
   "id": "c1386a65-5f9a-47ae-b182-bd5f47f603f2",
   "metadata": {},
   "outputs": [
    {
     "data": {
      "text/plain": [
       "<function numpy.__config__.show(mode='stdout')>"
      ]
     },
     "execution_count": 5,
     "metadata": {},
     "output_type": "execute_result"
    }
   ],
   "source": [
    "np.show_config"
   ]
  },
  {
   "cell_type": "code",
   "execution_count": 7,
   "id": "68817c31-6b46-4f17-8627-88df64c1681d",
   "metadata": {},
   "outputs": [
    {
     "data": {
      "text/plain": [
       "array([5, 7, 9])"
      ]
     },
     "execution_count": 7,
     "metadata": {},
     "output_type": "execute_result"
    }
   ],
   "source": [
    "# 2. Write a NumPy program to get help on the add function.   \n",
    "a = np.array([1,2,3])\n",
    "b = np.array([4,5,6])\n",
    "a+b"
   ]
  },
  {
   "cell_type": "code",
   "execution_count": 9,
   "id": "736b651d-c7fd-4b69-b4ba-709b469f6f8d",
   "metadata": {},
   "outputs": [
    {
     "data": {
      "text/plain": [
       "array([ 1,  2,  3,  6,  1, -1])"
      ]
     },
     "execution_count": 9,
     "metadata": {},
     "output_type": "execute_result"
    }
   ],
   "source": [
    "# 3. Write a NumPy program to test whether none of the elements of a given array is zero.\n",
    "arr = np.array([1,2,3,0,6,0,1,-1])\n",
    "arr[arr!=0]"
   ]
  },
  {
   "cell_type": "code",
   "execution_count": 11,
   "id": "772d7a42-604f-4fa0-a740-d7bee287dbfa",
   "metadata": {},
   "outputs": [
    {
     "data": {
      "text/plain": [
       "array([2, 3, 5, 6])"
      ]
     },
     "execution_count": 11,
     "metadata": {},
     "output_type": "execute_result"
    }
   ],
   "source": [
    "#4. Write a NumPy program to test whether any of the elements of a given array is non-zero.   \n",
    "arr = np.array([0,2,3,5,6,0])\n",
    "arr[arr!=0]"
   ]
  },
  {
   "cell_type": "code",
   "execution_count": 13,
   "id": "28811749-044e-4be5-a2d3-141df298d8d0",
   "metadata": {},
   "outputs": [
    {
     "data": {
      "text/plain": [
       "array([ True,  True,  True,  True,  True,  True])"
      ]
     },
     "execution_count": 13,
     "metadata": {},
     "output_type": "execute_result"
    }
   ],
   "source": [
    "# 5. Write a NumPy program to test a given array element-wise for finiteness (not infinity or not a Number).   \n",
    "arr = np.array([2,4,5,6,7777777777777777,0])\n",
    "np.isfinite(arr)"
   ]
  },
  {
   "cell_type": "code",
   "execution_count": 15,
   "id": "ed29d1ab-760e-4988-a515-4ee66ac1901f",
   "metadata": {},
   "outputs": [
    {
     "data": {
      "text/plain": [
       "True"
      ]
     },
     "execution_count": 15,
     "metadata": {},
     "output_type": "execute_result"
    }
   ],
   "source": [
    "# 6. Write a NumPy program to test element-wise for positive or negative infinity.  \n",
    "arr = np.array([2,4,5,6,7777777777777777,0])\n",
    "np.isneginf(-np.inf)"
   ]
  },
  {
   "cell_type": "code",
   "execution_count": 17,
   "id": "95fa4766-c7b7-4c4c-88a7-7c6d80763e56",
   "metadata": {},
   "outputs": [
    {
     "data": {
      "text/plain": [
       "True"
      ]
     },
     "execution_count": 17,
     "metadata": {},
     "output_type": "execute_result"
    }
   ],
   "source": [
    "np.isposinf(np.inf)"
   ]
  },
  {
   "cell_type": "code",
   "execution_count": 19,
   "id": "b269eddf-3708-4258-9168-7443afea183d",
   "metadata": {},
   "outputs": [
    {
     "data": {
      "text/plain": [
       "array([False, False, False, False, False])"
      ]
     },
     "execution_count": 19,
     "metadata": {},
     "output_type": "execute_result"
    }
   ],
   "source": [
    "# 7. Write a NumPy program to test element-wise for NaN of a given array.  \n",
    "arr = np.array([1,4,5,6,0])\n",
    "np.isnan(arr)"
   ]
  },
  {
   "cell_type": "code",
   "execution_count": 21,
   "id": "76941c72-6520-40fd-bb0c-4d48fcce2602",
   "metadata": {},
   "outputs": [
    {
     "data": {
      "text/plain": [
       "array([ True,  True, False])"
      ]
     },
     "execution_count": 21,
     "metadata": {},
     "output_type": "execute_result"
    }
   ],
   "source": [
    "# 8. Write a NumPy program to test element-wise for complex number, real number of a given array. \n",
    "# Also test whether a given number is a scalar type or not.   \n",
    "arr = np.array([1+4j,2+5j,6])\n",
    "np.iscomplex(arr)"
   ]
  },
  {
   "cell_type": "code",
   "execution_count": 23,
   "id": "a2c5d8ef-d08b-4409-89f0-58adfc1ce7a5",
   "metadata": {},
   "outputs": [
    {
     "data": {
      "text/plain": [
       "array([False, False,  True])"
      ]
     },
     "execution_count": 23,
     "metadata": {},
     "output_type": "execute_result"
    }
   ],
   "source": [
    "np.isreal(arr)"
   ]
  },
  {
   "cell_type": "code",
   "execution_count": 25,
   "id": "929f981a-ea9d-433f-a72d-d923e26374a0",
   "metadata": {},
   "outputs": [
    {
     "data": {
      "text/plain": [
       "array([6, 7, 8, 9])"
      ]
     },
     "execution_count": 25,
     "metadata": {},
     "output_type": "execute_result"
    }
   ],
   "source": [
    "# 9. Write a NumPy program to create an element-wise comparison (greater, greater_equal, less and \n",
    "#less_equal) of two given arrays.  \n",
    "arr = np.array([1,2,3,4,5,6,7,8,9])\n",
    "arr[arr>5]"
   ]
  },
  {
   "cell_type": "code",
   "execution_count": 27,
   "id": "27b29ccf-b101-4c77-b024-90715fc0f443",
   "metadata": {},
   "outputs": [
    {
     "data": {
      "text/plain": [
       "array([1, 2])"
      ]
     },
     "execution_count": 27,
     "metadata": {},
     "output_type": "execute_result"
    }
   ],
   "source": [
    "arr[arr<3]"
   ]
  },
  {
   "cell_type": "code",
   "execution_count": 29,
   "id": "aaef99f9-620e-4ef8-83a4-d376e0ff9eb3",
   "metadata": {},
   "outputs": [
    {
     "data": {
      "text/plain": [
       "array([5, 6, 7, 8, 9])"
      ]
     },
     "execution_count": 29,
     "metadata": {},
     "output_type": "execute_result"
    }
   ],
   "source": [
    "arr[arr>=5]"
   ]
  },
  {
   "cell_type": "code",
   "execution_count": 31,
   "id": "84eef3e8-112d-47a7-aa01-df30a581d5a1",
   "metadata": {},
   "outputs": [
    {
     "data": {
      "text/plain": [
       "array([1, 2, 3])"
      ]
     },
     "execution_count": 31,
     "metadata": {},
     "output_type": "execute_result"
    }
   ],
   "source": [
    "arr[arr<=3]"
   ]
  },
  {
   "cell_type": "code",
   "execution_count": 33,
   "id": "29c82e5e-a5bf-43d3-a6bd-26132367e07d",
   "metadata": {},
   "outputs": [
    {
     "data": {
      "text/plain": [
       "16"
      ]
     },
     "execution_count": 33,
     "metadata": {},
     "output_type": "execute_result"
    }
   ],
   "source": [
    "# 10. Write a NumPy program to create an array with the values 1, 7, 13, 105 and determine the size of the \n",
    "#memory occupied by the array. \n",
    "arr = np.array([1,7,13,105])\n",
    "arr.nbytes"
   ]
  },
  {
   "cell_type": "code",
   "execution_count": 35,
   "id": "a6a0a32a-0624-455f-8d19-a29121e44777",
   "metadata": {},
   "outputs": [
    {
     "data": {
      "text/plain": [
       "array([0., 0., 0., 0., 0., 0., 0., 0., 0., 0.])"
      ]
     },
     "execution_count": 35,
     "metadata": {},
     "output_type": "execute_result"
    }
   ],
   "source": [
    "# 11. Write a NumPy program to create an array of 10 zeros,10 ones, 10 fives.   \n",
    "arr1 = np.zeros(10)\n",
    "arr1"
   ]
  },
  {
   "cell_type": "code",
   "execution_count": 37,
   "id": "555b5769-11f1-47bd-9684-a31c4a807a83",
   "metadata": {},
   "outputs": [
    {
     "data": {
      "text/plain": [
       "array([1., 1., 1., 1., 1., 1., 1., 1., 1., 1.])"
      ]
     },
     "execution_count": 37,
     "metadata": {},
     "output_type": "execute_result"
    }
   ],
   "source": [
    "arr2 = np.ones(10)\n",
    "arr2"
   ]
  },
  {
   "cell_type": "code",
   "execution_count": 39,
   "id": "0c9f14d9-aa66-4e3f-ab96-a4da35e0736a",
   "metadata": {},
   "outputs": [
    {
     "data": {
      "text/plain": [
       "array([5., 5., 5., 5., 5., 5., 5., 5., 5., 5.])"
      ]
     },
     "execution_count": 39,
     "metadata": {},
     "output_type": "execute_result"
    }
   ],
   "source": [
    "arr3 = arr2*5\n",
    "arr3"
   ]
  },
  {
   "cell_type": "code",
   "execution_count": 41,
   "id": "d637fbad-e91a-48ba-896e-77a0e13cb68b",
   "metadata": {},
   "outputs": [
    {
     "data": {
      "text/plain": [
       "array([30, 31, 32, 33, 34, 35, 36, 37, 38, 39, 40, 41, 42, 43, 44, 45, 46,\n",
       "       47, 48, 49, 50, 51, 52, 53, 54, 55, 56, 57, 58, 59, 60, 61, 62, 63,\n",
       "       64, 65, 66, 67, 68, 69, 70])"
      ]
     },
     "execution_count": 41,
     "metadata": {},
     "output_type": "execute_result"
    }
   ],
   "source": [
    "# 12. Write a NumPy program to create an array of the integers from 30 to70.\n",
    "arr = np.arange(30,71)\n",
    "arr"
   ]
  },
  {
   "cell_type": "code",
   "execution_count": 43,
   "id": "4f3f5121-f1ac-42b5-a6a7-56cdfae54300",
   "metadata": {},
   "outputs": [
    {
     "data": {
      "text/plain": [
       "array([30, 32, 34, 36, 38, 40, 42, 44, 46, 48, 50, 52, 54, 56, 58, 60, 62,\n",
       "       64, 66, 68, 70])"
      ]
     },
     "execution_count": 43,
     "metadata": {},
     "output_type": "execute_result"
    }
   ],
   "source": [
    "# 13. Write a NumPy program to create an array of all the even integers from 30 to 70. \n",
    "arr[arr%2==0]"
   ]
  },
  {
   "cell_type": "code",
   "execution_count": 45,
   "id": "2c43ebd9-2b1c-4247-88c0-693d8f2050d7",
   "metadata": {},
   "outputs": [
    {
     "data": {
      "text/plain": [
       "array([[1., 0., 0.],\n",
       "       [0., 1., 0.],\n",
       "       [0., 0., 1.]])"
      ]
     },
     "execution_count": 45,
     "metadata": {},
     "output_type": "execute_result"
    }
   ],
   "source": [
    "# 14. Write a NumPy program to create a 3x3 identity matrix.   \n",
    "id = np.identity(3)\n",
    "id"
   ]
  },
  {
   "cell_type": "code",
   "execution_count": 47,
   "id": "cdc9cc83-f770-4a31-a97c-9afb6a158b65",
   "metadata": {},
   "outputs": [
    {
     "data": {
      "text/plain": [
       "0"
      ]
     },
     "execution_count": 47,
     "metadata": {},
     "output_type": "execute_result"
    }
   ],
   "source": [
    "# 15. Write a NumPy program to generate a random number between 0 and 1.\n",
    "ar1 = np.random.randint(0,1)\n",
    "ar1"
   ]
  },
  {
   "cell_type": "code",
   "execution_count": 49,
   "id": "b6bf54b3-5c17-4b03-9cea-15e96f3ce7fa",
   "metadata": {},
   "outputs": [
    {
     "data": {
      "text/plain": [
       "array([10,  2,  5,  3,  9,  9,  1,  7,  5,  3, 12,  1,  0,  1,  7])"
      ]
     },
     "execution_count": 49,
     "metadata": {},
     "output_type": "execute_result"
    }
   ],
   "source": [
    "# 16. Write a NumPy program to generate an array of 15 random numbers from a standard normal distribution.  \n",
    "arr = np.random.randint(15,size=15)\n",
    "arr"
   ]
  },
  {
   "cell_type": "code",
   "execution_count": 51,
   "id": "40dd1d48-7da2-4d45-9816-02b29d2ced1e",
   "metadata": {},
   "outputs": [
    {
     "data": {
      "text/plain": [
       "array([16, 17, 18, 19, 20, 21, 22, 23, 24, 25, 26, 27, 28, 29, 30, 31, 32,\n",
       "       33, 34, 35, 36, 37, 38, 39, 40, 41, 42, 43, 44, 45, 46, 47, 48, 49,\n",
       "       50, 51, 52, 53, 54])"
      ]
     },
     "execution_count": 51,
     "metadata": {},
     "output_type": "execute_result"
    }
   ],
   "source": [
    "# 17.  Write a NumPy program to create a vector with values ranging from 15 to 55 and print \n",
    "#all values except the first and last.  \n",
    "arr = np.arange(15,56)\n",
    "arr[1:-1]"
   ]
  },
  {
   "cell_type": "code",
   "execution_count": 53,
   "id": "b9363630-9347-4ea5-9275-e40fcc99da22",
   "metadata": {},
   "outputs": [
    {
     "data": {
      "text/plain": [
       "array([[5, 2, 2, 9],\n",
       "       [7, 0, 9, 4],\n",
       "       [2, 5, 2, 8]])"
      ]
     },
     "execution_count": 53,
     "metadata": {},
     "output_type": "execute_result"
    }
   ],
   "source": [
    "# 18.  Write a NumPy program to create a 3X4 array. \n",
    "arr = np.random.randint(12,size=(3,4))\n",
    "arr"
   ]
  },
  {
   "cell_type": "code",
   "execution_count": 55,
   "id": "b214bf9c-ea0c-4748-80ec-c12c79a2a0e7",
   "metadata": {},
   "outputs": [
    {
     "data": {
      "text/plain": [
       "array([ 5., 10., 15., 20., 25., 30., 35., 40., 45., 50.])"
      ]
     },
     "execution_count": 55,
     "metadata": {},
     "output_type": "execute_result"
    }
   ],
   "source": [
    "# 19.  Write a NumPy program to create a vector of length 10 with values evenly distributed                    \n",
    "#between 5 and 50.  \n",
    "arr = np.linspace(5,50,10)\n",
    "arr"
   ]
  },
  {
   "cell_type": "code",
   "execution_count": 57,
   "id": "c621088c-3664-4064-b4a3-04fc2a717575",
   "metadata": {},
   "outputs": [
    {
     "data": {
      "text/plain": [
       "array([  0,   1,   2,   3,   4,   5,   6,   7,   8,  -9, -10, -11, -12,\n",
       "       -13, -14, -15,  16,  17,  18,  19,  20])"
      ]
     },
     "execution_count": 57,
     "metadata": {},
     "output_type": "execute_result"
    }
   ],
   "source": [
    "# 20.Write a NumPy program to create a vector with values from 0 to 20 and change the sign of the \n",
    "#numbers in the range from 9 to 15.  \n",
    "arr = np.arange(0,21)\n",
    "arr[9:16] = -arr[9:16]\n",
    "arr"
   ]
  },
  {
   "cell_type": "code",
   "execution_count": 59,
   "id": "c310d826-5831-4974-8d6e-7ba9ac3aea9c",
   "metadata": {},
   "outputs": [
    {
     "data": {
      "text/plain": [
       "array([8, 4, 0, 8, 4])"
      ]
     },
     "execution_count": 59,
     "metadata": {},
     "output_type": "execute_result"
    }
   ],
   "source": [
    "# 21.Write a NumPy program to create a vector of length 5 filled with arbitrary integers from 0 to 10. \n",
    "arr = np.random.randint(0,10,size=5)\n",
    "arr"
   ]
  },
  {
   "cell_type": "code",
   "execution_count": 61,
   "id": "da4bfd03-c0ab-4fbf-afb7-f4f413e7ab39",
   "metadata": {},
   "outputs": [
    {
     "data": {
      "text/plain": [
       "array([ 4,  6,  6, 20, 36])"
      ]
     },
     "execution_count": 61,
     "metadata": {},
     "output_type": "execute_result"
    }
   ],
   "source": [
    "# 22. Write a NumPy program to multiply the values of two given vectors.   \n",
    "ar1 = np.array([1,2,3,4,6])\n",
    "ar2 = np.array([4,3,2,5,6])\n",
    "ar1*ar2"
   ]
  },
  {
   "cell_type": "code",
   "execution_count": 63,
   "id": "2fe02d51-785e-468b-b979-d8f3f611b134",
   "metadata": {},
   "outputs": [
    {
     "data": {
      "text/plain": [
       "array([[15, 12, 17, 13],\n",
       "       [19, 13, 13, 12],\n",
       "       [18, 14, 18, 15]])"
      ]
     },
     "execution_count": 63,
     "metadata": {},
     "output_type": "execute_result"
    }
   ],
   "source": [
    "# 23. Write a NumPy program to create a 3x4 matrix filled with values from 10 to 21. \n",
    "arr = np.random.randint(10,21,size=(3,4))\n",
    "arr"
   ]
  },
  {
   "cell_type": "code",
   "execution_count": 65,
   "id": "d81fd2c7-bcf2-4f40-afc9-0a81db5e34ad",
   "metadata": {},
   "outputs": [
    {
     "data": {
      "text/plain": [
       "3"
      ]
     },
     "execution_count": 65,
     "metadata": {},
     "output_type": "execute_result"
    }
   ],
   "source": [
    "# 24. Write a NumPy program to find the number of rows and columns of a given matrix.  \n",
    "rows , columns = arr.shape\n",
    "rows"
   ]
  },
  {
   "cell_type": "code",
   "execution_count": 67,
   "id": "88eba99e-740a-4eeb-bfa3-ca418a85e365",
   "metadata": {},
   "outputs": [
    {
     "data": {
      "text/plain": [
       "4"
      ]
     },
     "execution_count": 67,
     "metadata": {},
     "output_type": "execute_result"
    }
   ],
   "source": [
    "columns"
   ]
  },
  {
   "cell_type": "code",
   "execution_count": 69,
   "id": "b8ed16ce-9651-4d09-bfcc-d94063db2279",
   "metadata": {},
   "outputs": [
    {
     "data": {
      "text/plain": [
       "array([[1., 0., 0.],\n",
       "       [0., 1., 0.],\n",
       "       [0., 0., 1.]])"
      ]
     },
     "execution_count": 69,
     "metadata": {},
     "output_type": "execute_result"
    }
   ],
   "source": [
    "# 25. Write a NumPy program to create a 3x3 identity matrix, i.e. diagonal elements are 1, the rest are 0. \n",
    "arr = np.identity(3)\n",
    "arr"
   ]
  },
  {
   "cell_type": "code",
   "execution_count": 71,
   "id": "05132a68-a1c1-407f-8070-c2694f43db8b",
   "metadata": {},
   "outputs": [
    {
     "data": {
      "text/plain": [
       "array([[1., 1., 1., 1., 1., 1., 1., 1., 1., 1.],\n",
       "       [1., 1., 1., 1., 1., 1., 1., 1., 1., 1.],\n",
       "       [1., 1., 1., 1., 1., 1., 1., 1., 1., 1.],\n",
       "       [1., 1., 1., 1., 1., 1., 1., 1., 1., 1.],\n",
       "       [1., 1., 1., 1., 1., 1., 1., 1., 1., 1.],\n",
       "       [1., 1., 1., 1., 1., 1., 1., 1., 1., 1.],\n",
       "       [1., 1., 1., 1., 1., 1., 1., 1., 1., 1.],\n",
       "       [1., 1., 1., 1., 1., 1., 1., 1., 1., 1.],\n",
       "       [1., 1., 1., 1., 1., 1., 1., 1., 1., 1.],\n",
       "       [1., 1., 1., 1., 1., 1., 1., 1., 1., 1.]])"
      ]
     },
     "execution_count": 71,
     "metadata": {},
     "output_type": "execute_result"
    }
   ],
   "source": [
    "#26. Write a NumPy program to create a 10x10 matrix, in which the elements on the borders will be \n",
    "#equal to 1, and inside 0.   \n",
    "arr = np.ones((10,10))\n",
    "arr"
   ]
  },
  {
   "cell_type": "code",
   "execution_count": 73,
   "id": "7a254f3f-5585-4aa2-8fde-56fc7300fde7",
   "metadata": {},
   "outputs": [
    {
     "data": {
      "text/plain": [
       "array([[1., 1., 1., 1., 1., 1., 1., 1., 1., 1.],\n",
       "       [1., 0., 0., 0., 0., 0., 0., 0., 0., 1.],\n",
       "       [1., 0., 0., 0., 0., 0., 0., 0., 0., 1.],\n",
       "       [1., 0., 0., 0., 0., 0., 0., 0., 0., 1.],\n",
       "       [1., 0., 0., 0., 0., 0., 0., 0., 0., 1.],\n",
       "       [1., 0., 0., 0., 0., 0., 0., 0., 0., 1.],\n",
       "       [1., 0., 0., 0., 0., 0., 0., 0., 0., 1.],\n",
       "       [1., 0., 0., 0., 0., 0., 0., 0., 0., 1.],\n",
       "       [1., 0., 0., 0., 0., 0., 0., 0., 0., 1.],\n",
       "       [1., 1., 1., 1., 1., 1., 1., 1., 1., 1.]])"
      ]
     },
     "execution_count": 73,
     "metadata": {},
     "output_type": "execute_result"
    }
   ],
   "source": [
    "arr[1:-1, 1:-1] = 0\n",
    "arr"
   ]
  },
  {
   "cell_type": "code",
   "execution_count": 75,
   "id": "8a1f3cbd-1a06-4ab7-9d08-aa82ac11a468",
   "metadata": {},
   "outputs": [
    {
     "data": {
      "text/plain": [
       "array([[0., 0., 0., 0., 0.],\n",
       "       [0., 0., 0., 0., 0.],\n",
       "       [0., 0., 0., 0., 0.],\n",
       "       [0., 0., 0., 0., 0.],\n",
       "       [0., 0., 0., 0., 0.]])"
      ]
     },
     "execution_count": 75,
     "metadata": {},
     "output_type": "execute_result"
    }
   ],
   "source": [
    "# 27. Write a NumPy program to create a 5x5 zero matrix with elements on the main diagonal \n",
    "#equal to 1, 2, 3, 4, 5.   \n",
    "arr = np.zeros((5,5))\n",
    "arr"
   ]
  },
  {
   "cell_type": "code",
   "execution_count": 77,
   "id": "35e9dc72-21ae-4b70-a807-9ed79b185d46",
   "metadata": {},
   "outputs": [],
   "source": [
    "np.fill_diagonal(arr,[1,2,3,4,5])"
   ]
  },
  {
   "cell_type": "code",
   "execution_count": 79,
   "id": "cc3983da-6b25-4f6d-9b25-2cc7f072151e",
   "metadata": {},
   "outputs": [
    {
     "data": {
      "text/plain": [
       "array([[1., 0., 0., 0., 0.],\n",
       "       [0., 2., 0., 0., 0.],\n",
       "       [0., 0., 3., 0., 0.],\n",
       "       [0., 0., 0., 4., 0.],\n",
       "       [0., 0., 0., 0., 5.]])"
      ]
     },
     "execution_count": 79,
     "metadata": {},
     "output_type": "execute_result"
    }
   ],
   "source": [
    "arr"
   ]
  },
  {
   "cell_type": "code",
   "execution_count": 81,
   "id": "45f883e1-5828-450d-8ce8-ecf5fec54b80",
   "metadata": {},
   "outputs": [
    {
     "data": {
      "text/plain": [
       "array([[[32,  1, 20],\n",
       "        [40, 23, 34],\n",
       "        [18,  6, 44]],\n",
       "\n",
       "       [[11, 17, 23],\n",
       "        [ 7,  8, 10],\n",
       "        [ 7, 36, 25]],\n",
       "\n",
       "       [[24,  5, 24],\n",
       "        [36, 39, 27],\n",
       "        [33, 35, 23]]])"
      ]
     },
     "execution_count": 81,
     "metadata": {},
     "output_type": "execute_result"
    }
   ],
   "source": [
    "# 28. Write a NumPy program to create a 3x3x3 array filled with arbitrary values. \n",
    "arr = np.random.randint(45,size=(3,3,3))\n",
    "arr"
   ]
  },
  {
   "cell_type": "code",
   "execution_count": 83,
   "id": "31a04f1a-d3bd-4178-b2e7-e438a6f169ca",
   "metadata": {},
   "outputs": [
    {
     "data": {
      "text/plain": [
       "52"
      ]
     },
     "execution_count": 83,
     "metadata": {},
     "output_type": "execute_result"
    }
   ],
   "source": [
    "# 29.  Write a NumPy program to compute the inner product of two given vectors.  \n",
    "a1 = np.array([2,3,4,1])\n",
    "a2 = np.array([3,5,6,7])\n",
    "np.inner(a1,a2)"
   ]
  },
  {
   "cell_type": "code",
   "execution_count": 85,
   "id": "07251dac-3063-4dc2-8c3d-c8811ede7d44",
   "metadata": {},
   "outputs": [
    {
     "data": {
      "text/plain": [
       "array([[2, 3, 4, 1],\n",
       "       [3, 5, 6, 7]])"
      ]
     },
     "execution_count": 85,
     "metadata": {},
     "output_type": "execute_result"
    }
   ],
   "source": [
    "#30. Write a NumPy program to sort a given array by row and column in ascending order.   \n",
    "arr = np.array([[2,3,4,1],[3,5,6,7]])\n",
    "np.sort(arr,axis=0)"
   ]
  },
  {
   "cell_type": "code",
   "execution_count": 87,
   "id": "f5d11a1a-8ab2-4692-bcb3-d2fde65c8443",
   "metadata": {},
   "outputs": [
    {
     "data": {
      "text/plain": [
       "array([[1, 2, 3, 4],\n",
       "       [3, 5, 6, 7]])"
      ]
     },
     "execution_count": 87,
     "metadata": {},
     "output_type": "execute_result"
    }
   ],
   "source": [
    "np.sort(arr,axis=1)"
   ]
  },
  {
   "cell_type": "code",
   "execution_count": 89,
   "id": "5fb3f178-2618-4bfb-9333-4290055edb45",
   "metadata": {},
   "outputs": [
    {
     "data": {
      "text/plain": [
       "array([6, 7, 8, 9])"
      ]
     },
     "execution_count": 89,
     "metadata": {},
     "output_type": "execute_result"
    }
   ],
   "source": [
    "# 31.  Write a NumPy program to extract all numbers from a given array which are less and greater \n",
    "# than a specified number.   \n",
    "arr = np.array([1,2,3,5,6,4,7,8,9])\n",
    "arr[arr>5]"
   ]
  },
  {
   "cell_type": "code",
   "execution_count": 91,
   "id": "88753d26-b051-44cb-afab-d31d4d391b69",
   "metadata": {},
   "outputs": [
    {
     "data": {
      "text/plain": [
       "array([1, 2, 3, 4])"
      ]
     },
     "execution_count": 91,
     "metadata": {},
     "output_type": "execute_result"
    }
   ],
   "source": [
    "arr[arr<5]"
   ]
  },
  {
   "cell_type": "code",
   "execution_count": 95,
   "id": "23f7380c-2d32-4f4e-accd-247504947d5c",
   "metadata": {},
   "outputs": [],
   "source": [
    "#32.  Write a NumPy program to replace all numbers in a given array which is equal, \n",
    "# less and greater to a given number. \n",
    "arr = np.array([1,2,7,3,4,7,5,6,5,6,7,7,37,7,8,9,10])"
   ]
  },
  {
   "cell_type": "code",
   "execution_count": 97,
   "id": "99df21d9-b770-4c85-b18a-dc73b0961622",
   "metadata": {},
   "outputs": [
    {
     "data": {
      "text/plain": [
       "array([7, 7, 7, 7, 7])"
      ]
     },
     "execution_count": 97,
     "metadata": {},
     "output_type": "execute_result"
    }
   ],
   "source": [
    "arr[arr==7]"
   ]
  },
  {
   "cell_type": "code",
   "execution_count": 99,
   "id": "f5fa1b9d-a0b7-44f5-a317-709433d64754",
   "metadata": {},
   "outputs": [
    {
     "data": {
      "text/plain": [
       "array([37,  8,  9, 10])"
      ]
     },
     "execution_count": 99,
     "metadata": {},
     "output_type": "execute_result"
    }
   ],
   "source": [
    "arr[arr>7]"
   ]
  },
  {
   "cell_type": "code",
   "execution_count": 101,
   "id": "b1c535fd-d4d5-4203-950c-41bea57181e0",
   "metadata": {},
   "outputs": [
    {
     "data": {
      "text/plain": [
       "array([1, 2, 3, 4, 5, 6, 5, 6])"
      ]
     },
     "execution_count": 101,
     "metadata": {},
     "output_type": "execute_result"
    }
   ],
   "source": [
    "arr[arr<7]"
   ]
  },
  {
   "cell_type": "code",
   "execution_count": 107,
   "id": "b8f0e6e7-fb32-4da7-be9d-73d0d43e14c1",
   "metadata": {},
   "outputs": [
    {
     "data": {
      "text/plain": [
       "array([[1, 1, 1, 1],\n",
       "       [1, 1, 1, 1],\n",
       "       [1, 1, 1, 1]])"
      ]
     },
     "execution_count": 107,
     "metadata": {},
     "output_type": "execute_result"
    }
   ],
   "source": [
    "# 33. Write a NumPy program to create an array of equal shape and data type of a given array.\n",
    "nums = np.array([[34,12,67,54],[34,57,23,45],[89,43,12,56]])\n",
    "np.ones_like(nums)"
   ]
  },
  {
   "cell_type": "code",
   "execution_count": 113,
   "id": "53744bae-0702-4d1a-bf5d-3398aeece98e",
   "metadata": {},
   "outputs": [
    {
     "data": {
      "text/plain": [
       "array([[[ 3, 22, 10,  0],\n",
       "        [11, 32, 20, 30],\n",
       "        [21,  2, 18, 18],\n",
       "        [14, 29, 14, 30],\n",
       "        [ 7, 15,  4, 22]],\n",
       "\n",
       "       [[10, 31,  5,  7],\n",
       "        [ 2, 27, 29, 17],\n",
       "        [ 9,  7, 11, 28],\n",
       "        [ 2,  7, 17, 17],\n",
       "        [23,  3,  4, 15]],\n",
       "\n",
       "       [[26, 11, 19, 30],\n",
       "        [29, 12,  6, 14],\n",
       "        [ 5, 19, 28, 25],\n",
       "        [21, 24, 19,  3],\n",
       "        [30, 28, 19,  1]]])"
      ]
     },
     "execution_count": 113,
     "metadata": {},
     "output_type": "execute_result"
    }
   ],
   "source": [
    "# 34. Write a NumPy program to create a three-dimension array with shape (3,5,4) and set to a\n",
    "# variable.\n",
    "arr = np.random.randint(34,size=(3,5,4))\n",
    "arr"
   ]
  },
  {
   "cell_type": "code",
   "execution_count": 117,
   "id": "20870954-a72a-4593-9191-bd27ff998767",
   "metadata": {},
   "outputs": [
    {
     "data": {
      "text/plain": [
       "array([ 5, 12, 21, 32])"
      ]
     },
     "execution_count": 117,
     "metadata": {},
     "output_type": "execute_result"
    }
   ],
   "source": [
    "# 35. Write a NumPy program to multiply two given arrays of same size element-by-element.\n",
    "a = np.array([1,2,3,4])\n",
    "b = np.array([5,6,7,8])\n",
    "a*b"
   ]
  }
 ],
 "metadata": {
  "kernelspec": {
   "display_name": "Python 3 (ipykernel)",
   "language": "python",
   "name": "python3"
  },
  "language_info": {
   "codemirror_mode": {
    "name": "ipython",
    "version": 3
   },
   "file_extension": ".py",
   "mimetype": "text/x-python",
   "name": "python",
   "nbconvert_exporter": "python",
   "pygments_lexer": "ipython3",
   "version": "3.12.4"
  }
 },
 "nbformat": 4,
 "nbformat_minor": 5
}
