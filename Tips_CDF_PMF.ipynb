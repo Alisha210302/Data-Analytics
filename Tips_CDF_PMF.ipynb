{
 "cells": [
  {
   "cell_type": "code",
   "execution_count": 3,
   "id": "47ea0e4d-68c4-4bb1-bbaa-55c8d1b43d87",
   "metadata": {},
   "outputs": [],
   "source": [
    "import pandas as pd\n",
    "import numpy as np\n",
    "import matplotlib.pyplot as plt\n",
    "from scipy.stats import binom"
   ]
  },
  {
   "cell_type": "code",
   "execution_count": 4,
   "id": "a2ffbeed-281d-4e47-b41b-b4281d3e2d21",
   "metadata": {},
   "outputs": [],
   "source": [
    "tips_df = pd.read_csv('tips.csv')"
   ]
  },
  {
   "cell_type": "code",
   "execution_count": 5,
   "id": "2aa79334-f0cd-4406-9d17-a122a6793d60",
   "metadata": {},
   "outputs": [],
   "source": [
    "# binary outcome: success if (tips/ total_bill) > 0.15, otherwise failure"
   ]
  },
  {
   "cell_type": "code",
   "execution_count": 6,
   "id": "deaa2cce-5388-4051-b374-913708d8ea68",
   "metadata": {},
   "outputs": [],
   "source": [
    "def classify_tip(row):\n",
    "    total_bill = row['total_bill']\n",
    "    tip = row['tip']\n",
    "    if(tip/ total_bill)>0.15:\n",
    "        return 1 #success\n",
    "    else:\n",
    "        return 0\n"
   ]
  },
  {
   "cell_type": "code",
   "execution_count": 7,
   "id": "0b2f5399-eaff-43f0-a7d2-78a5f1dd27e9",
   "metadata": {},
   "outputs": [],
   "source": [
    "# apply the function to create the binary column\n",
    "tips_df['tip_binary'] = tips_df.apply(classify_tip, axis=1)"
   ]
  },
  {
   "cell_type": "code",
   "execution_count": 8,
   "id": "e54b6641-b11b-41d4-b376-5866ac2ff620",
   "metadata": {},
   "outputs": [],
   "source": [
    "# total number of trials (total observations)\n",
    "n= len(tips_df)"
   ]
  },
  {
   "cell_type": "code",
   "execution_count": 9,
   "id": "6d676070-abfe-4931-af31-9276a2c7afa6",
   "metadata": {},
   "outputs": [],
   "source": [
    "# number of successes (tips where tip/total_bill >0.15)\n",
    "k = tips_df['tip_binary'].sum()"
   ]
  },
  {
   "cell_type": "code",
   "execution_count": 10,
   "id": "2f2e0d10-f2cf-4d1d-853a-78761cc9a918",
   "metadata": {},
   "outputs": [],
   "source": [
    "# probability of success (p)\n",
    "p = k/n"
   ]
  },
  {
   "cell_type": "code",
   "execution_count": 11,
   "id": "ae2e5d53-af23-4130-b7a5-5068dfe0f8af",
   "metadata": {},
   "outputs": [],
   "source": [
    "# define number of trials for the binomial distribution\n",
    "trials = 100"
   ]
  },
  {
   "cell_type": "code",
   "execution_count": 12,
   "id": "4d5a3dc9-5235-49c5-9d9b-32443678961e",
   "metadata": {},
   "outputs": [],
   "source": [
    "# generate x values (number of successes from 0 to 100)\n",
    "x = np.arange(0,trials +1)"
   ]
  },
  {
   "cell_type": "code",
   "execution_count": 14,
   "id": "6631a5cf-0e87-46a9-9f92-236a263d25f0",
   "metadata": {},
   "outputs": [],
   "source": [
    "# calculate the PMF for each number of successes \n",
    "pmf_values = binom.pmf(x,trials,p)\n",
    "cummulative_probability = 0"
   ]
  },
  {
   "cell_type": "code",
   "execution_count": 15,
   "id": "c9d73574-79ce-4def-a6e8-c3bdcc975912",
   "metadata": {},
   "outputs": [
    {
     "name": "stdout",
     "output_type": "stream",
     "text": [
      "Probability for 0 successes = 0.000000.... Cumulative probability: 0.000000\n",
      "Probability for 1 successes = 0.000000.... Cumulative probability: 0.000000\n",
      "Probability for 2 successes = 0.000000.... Cumulative probability: 0.000000\n",
      "Probability for 3 successes = 0.000000.... Cumulative probability: 0.000000\n",
      "Probability for 4 successes = 0.000000.... Cumulative probability: 0.000000\n",
      "Probability for 5 successes = 0.000000.... Cumulative probability: 0.000000\n",
      "Probability for 6 successes = 0.000000.... Cumulative probability: 0.000000\n",
      "Probability for 7 successes = 0.000000.... Cumulative probability: 0.000000\n",
      "Probability for 8 successes = 0.000000.... Cumulative probability: 0.000000\n",
      "Probability for 9 successes = 0.000000.... Cumulative probability: 0.000000\n",
      "Probability for 10 successes = 0.000000.... Cumulative probability: 0.000000\n",
      "Probability for 11 successes = 0.000000.... Cumulative probability: 0.000000\n",
      "Probability for 12 successes = 0.000000.... Cumulative probability: 0.000000\n",
      "Probability for 13 successes = 0.000000.... Cumulative probability: 0.000000\n",
      "Probability for 14 successes = 0.000000.... Cumulative probability: 0.000000\n",
      "Probability for 15 successes = 0.000000.... Cumulative probability: 0.000000\n",
      "Probability for 16 successes = 0.000000.... Cumulative probability: 0.000000\n",
      "Probability for 17 successes = 0.000000.... Cumulative probability: 0.000000\n",
      "Probability for 18 successes = 0.000000.... Cumulative probability: 0.000000\n",
      "Probability for 19 successes = 0.000000.... Cumulative probability: 0.000000\n",
      "Probability for 20 successes = 0.000000.... Cumulative probability: 0.000000\n",
      "Probability for 21 successes = 0.000000.... Cumulative probability: 0.000000\n",
      "Probability for 22 successes = 0.000000.... Cumulative probability: 0.000000\n",
      "Probability for 23 successes = 0.000000.... Cumulative probability: 0.000000\n",
      "Probability for 24 successes = 0.000000.... Cumulative probability: 0.000000\n",
      "Probability for 25 successes = 0.000000.... Cumulative probability: 0.000000\n",
      "Probability for 26 successes = 0.000000.... Cumulative probability: 0.000000\n",
      "Probability for 27 successes = 0.000000.... Cumulative probability: 0.000000\n",
      "Probability for 28 successes = 0.000000.... Cumulative probability: 0.000000\n",
      "Probability for 29 successes = 0.000000.... Cumulative probability: 0.000000\n",
      "Probability for 30 successes = 0.000000.... Cumulative probability: 0.000000\n",
      "Probability for 31 successes = 0.000001.... Cumulative probability: 0.000001\n",
      "Probability for 32 successes = 0.000001.... Cumulative probability: 0.000002\n",
      "Probability for 33 successes = 0.000003.... Cumulative probability: 0.000006\n",
      "Probability for 34 successes = 0.000008.... Cumulative probability: 0.000014\n",
      "Probability for 35 successes = 0.000020.... Cumulative probability: 0.000034\n",
      "Probability for 36 successes = 0.000044.... Cumulative probability: 0.000078\n",
      "Probability for 37 successes = 0.000094.... Cumulative probability: 0.000172\n",
      "Probability for 38 successes = 0.000194.... Cumulative probability: 0.000366\n",
      "Probability for 39 successes = 0.000382.... Cumulative probability: 0.000748\n",
      "Probability for 40 successes = 0.000721.... Cumulative probability: 0.001470\n",
      "Probability for 41 successes = 0.001307.... Cumulative probability: 0.002777\n",
      "Probability for 42 successes = 0.002275.... Cumulative probability: 0.005052\n",
      "Probability for 43 successes = 0.003800.... Cumulative probability: 0.008852\n",
      "Probability for 44 successes = 0.006097.... Cumulative probability: 0.014949\n",
      "Probability for 45 successes = 0.009397.... Cumulative probability: 0.024346\n",
      "Probability for 46 successes = 0.013916.... Cumulative probability: 0.038262\n",
      "Probability for 47 successes = 0.019803.... Cumulative probability: 0.058065\n",
      "Probability for 48 successes = 0.027081.... Cumulative probability: 0.085146\n",
      "Probability for 49 successes = 0.035594.... Cumulative probability: 0.120740\n",
      "Probability for 50 successes = 0.044966.... Cumulative probability: 0.165706\n",
      "Probability for 51 successes = 0.054600.... Cumulative probability: 0.220306\n",
      "Probability for 52 successes = 0.063722.... Cumulative probability: 0.284028\n",
      "Probability for 53 successes = 0.071477.... Cumulative probability: 0.355505\n",
      "Probability for 54 successes = 0.077051.... Cumulative probability: 0.432555\n",
      "Probability for 55 successes = 0.079814.... Cumulative probability: 0.512369\n",
      "Probability for 56 successes = 0.079435.... Cumulative probability: 0.591804\n",
      "Probability for 57 successes = 0.075944.... Cumulative probability: 0.667748\n",
      "Probability for 58 successes = 0.069734.... Cumulative probability: 0.737482\n",
      "Probability for 59 successes = 0.061482.... Cumulative probability: 0.798964\n",
      "Probability for 60 successes = 0.052034.... Cumulative probability: 0.850998\n",
      "Probability for 61 successes = 0.042260.... Cumulative probability: 0.893257\n",
      "Probability for 62 successes = 0.032923.... Cumulative probability: 0.926180\n",
      "Probability for 63 successes = 0.024595.... Cumulative probability: 0.950776\n",
      "Probability for 64 successes = 0.017611.... Cumulative probability: 0.968387\n",
      "Probability for 65 successes = 0.012080.... Cumulative probability: 0.980467\n",
      "Probability for 66 successes = 0.007934.... Cumulative probability: 0.988402\n",
      "Probability for 67 successes = 0.004987.... Cumulative probability: 0.993388\n",
      "Probability for 68 successes = 0.002997.... Cumulative probability: 0.996386\n",
      "Probability for 69 successes = 0.001722.... Cumulative probability: 0.998107\n",
      "Probability for 70 successes = 0.000944.... Cumulative probability: 0.999052\n",
      "Probability for 71 successes = 0.000494.... Cumulative probability: 0.999546\n",
      "Probability for 72 successes = 0.000247.... Cumulative probability: 0.999792\n",
      "Probability for 73 successes = 0.000117.... Cumulative probability: 0.999910\n",
      "Probability for 74 successes = 0.000053.... Cumulative probability: 0.999962\n",
      "Probability for 75 successes = 0.000023.... Cumulative probability: 0.999985\n",
      "Probability for 76 successes = 0.000009.... Cumulative probability: 0.999994\n",
      "Probability for 77 successes = 0.000004.... Cumulative probability: 0.999998\n",
      "Probability for 78 successes = 0.000001.... Cumulative probability: 0.999999\n",
      "Probability for 79 successes = 0.000000.... Cumulative probability: 1.000000\n",
      "Probability for 80 successes = 0.000000.... Cumulative probability: 1.000000\n",
      "Probability for 81 successes = 0.000000.... Cumulative probability: 1.000000\n",
      "Probability for 82 successes = 0.000000.... Cumulative probability: 1.000000\n",
      "Probability for 83 successes = 0.000000.... Cumulative probability: 1.000000\n",
      "Probability for 84 successes = 0.000000.... Cumulative probability: 1.000000\n",
      "Probability for 85 successes = 0.000000.... Cumulative probability: 1.000000\n",
      "Probability for 86 successes = 0.000000.... Cumulative probability: 1.000000\n",
      "Probability for 87 successes = 0.000000.... Cumulative probability: 1.000000\n",
      "Probability for 88 successes = 0.000000.... Cumulative probability: 1.000000\n",
      "Probability for 89 successes = 0.000000.... Cumulative probability: 1.000000\n",
      "Probability for 90 successes = 0.000000.... Cumulative probability: 1.000000\n",
      "Probability for 91 successes = 0.000000.... Cumulative probability: 1.000000\n",
      "Probability for 92 successes = 0.000000.... Cumulative probability: 1.000000\n",
      "Probability for 93 successes = 0.000000.... Cumulative probability: 1.000000\n",
      "Probability for 94 successes = 0.000000.... Cumulative probability: 1.000000\n",
      "Probability for 95 successes = 0.000000.... Cumulative probability: 1.000000\n",
      "Probability for 96 successes = 0.000000.... Cumulative probability: 1.000000\n",
      "Probability for 97 successes = 0.000000.... Cumulative probability: 1.000000\n",
      "Probability for 98 successes = 0.000000.... Cumulative probability: 1.000000\n",
      "Probability for 99 successes = 0.000000.... Cumulative probability: 1.000000\n",
      "Probability for 100 successes = 0.000000.... Cumulative probability: 1.000000\n"
     ]
    }
   ],
   "source": [
    "for i in x:\n",
    "    cummulative_probability = binom.cdf(i,trials ,p)\n",
    "    print(f'Probability for {i} successes = {pmf_values[i]:.6f}.... Cumulative probability: {cummulative_probability:.6f}')"
   ]
  },
  {
   "cell_type": "code",
   "execution_count": null,
   "id": "f4a95e73-6cf2-4379-bbcd-38d4b8948024",
   "metadata": {},
   "outputs": [],
   "source": []
  }
 ],
 "metadata": {
  "kernelspec": {
   "display_name": "Python 3 (ipykernel)",
   "language": "python",
   "name": "python3"
  },
  "language_info": {
   "codemirror_mode": {
    "name": "ipython",
    "version": 3
   },
   "file_extension": ".py",
   "mimetype": "text/x-python",
   "name": "python",
   "nbconvert_exporter": "python",
   "pygments_lexer": "ipython3",
   "version": "3.12.4"
  }
 },
 "nbformat": 4,
 "nbformat_minor": 5
}
