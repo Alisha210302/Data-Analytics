{
 "cells": [
  {
   "cell_type": "code",
   "execution_count": 2,
   "id": "2a9bcf05-4a26-4d4e-9281-a0f7921a9060",
   "metadata": {},
   "outputs": [],
   "source": [
    "import pandas as pd\n",
    "import numpy as np\n",
    "import matplotlib.pyplot as plt"
   ]
  },
  {
   "cell_type": "code",
   "execution_count": 3,
   "id": "1047315f-c958-43f3-853d-34750c7c22d6",
   "metadata": {},
   "outputs": [],
   "source": [
    "commute_time = np.array([16, 8, 45, 20, 13, 17, 12, 20, 20])"
   ]
  },
  {
   "cell_type": "code",
   "execution_count": 4,
   "id": "48c65e4e-9d0a-4734-83b0-b8ec28ed9a88",
   "metadata": {},
   "outputs": [
    {
     "data": {
      "text/plain": [
       "19.0"
      ]
     },
     "execution_count": 4,
     "metadata": {},
     "output_type": "execute_result"
    }
   ],
   "source": [
    "commute_time.mean()"
   ]
  },
  {
   "cell_type": "code",
   "execution_count": 6,
   "id": "9c781102-f663-4e8a-a81a-3583385093a7",
   "metadata": {},
   "outputs": [
    {
     "data": {
      "text/plain": [
       "17.0"
      ]
     },
     "execution_count": 6,
     "metadata": {},
     "output_type": "execute_result"
    }
   ],
   "source": [
    "np.median(commute_time, axis=0)"
   ]
  },
  {
   "cell_type": "code",
   "execution_count": 9,
   "id": "801bb852-2e0c-495b-afd9-5330178d0db9",
   "metadata": {},
   "outputs": [],
   "source": [
    "# commute_time.mode"
   ]
  },
  {
   "cell_type": "code",
   "execution_count": null,
   "id": "a967f77e-043d-4657-a5c5-aa90ff35d684",
   "metadata": {},
   "outputs": [],
   "source": []
  }
 ],
 "metadata": {
  "kernelspec": {
   "display_name": "Python 3 (ipykernel)",
   "language": "python",
   "name": "python3"
  },
  "language_info": {
   "codemirror_mode": {
    "name": "ipython",
    "version": 3
   },
   "file_extension": ".py",
   "mimetype": "text/x-python",
   "name": "python",
   "nbconvert_exporter": "python",
   "pygments_lexer": "ipython3",
   "version": "3.12.4"
  }
 },
 "nbformat": 4,
 "nbformat_minor": 5
}
