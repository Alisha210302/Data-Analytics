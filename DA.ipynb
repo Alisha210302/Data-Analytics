{
 "cells": [
  {
   "cell_type": "code",
   "execution_count": 26,
   "id": "e6e12b05-9c70-4307-b6c1-4c9419d0b0fc",
   "metadata": {},
   "outputs": [],
   "source": [
    "import numpy as np\n",
    "import pandas as pd\n",
    "from scipy.stats import skew"
   ]
  },
  {
   "cell_type": "code",
   "execution_count": 27,
   "id": "0e2f6bfb-266a-4477-a63f-3feed64631ef",
   "metadata": {},
   "outputs": [
    {
     "data": {
      "text/plain": [
       "120.65"
      ]
     },
     "execution_count": 27,
     "metadata": {},
     "output_type": "execute_result"
    }
   ],
   "source": [
    "a = np.array([125, 118, 121, 123, 119, 122, 117, 121, 124, 116, 120, 122, 119, 124, 118, 120, 123, 122, 118, 121])\n",
    "m = a.mean()\n",
    "m"
   ]
  },
  {
   "cell_type": "code",
   "execution_count": 28,
   "id": "f9183eca-a96d-4766-8aff-8ac149e8a8c6",
   "metadata": {},
   "outputs": [
    {
     "data": {
      "text/plain": [
       "array([18.9225,  7.0225,  0.1225,  5.5225,  2.7225,  1.8225, 13.3225,\n",
       "        0.1225, 11.2225, 21.6225,  0.4225,  1.8225,  2.7225, 11.2225,\n",
       "        7.0225,  0.4225,  5.5225,  1.8225,  7.0225,  0.1225])"
      ]
     },
     "execution_count": 28,
     "metadata": {},
     "output_type": "execute_result"
    }
   ],
   "source": [
    "d1 = a-m\n",
    "d1**2"
   ]
  },
  {
   "cell_type": "code",
   "execution_count": 29,
   "id": "d6280f0c-6b3c-4ce5-8b30-08fca57ee117",
   "metadata": {},
   "outputs": [
    {
     "name": "stdout",
     "output_type": "stream",
     "text": [
      "Std deviation1:  2.4550967394381837\n"
     ]
    }
   ],
   "source": [
    "print(\"Std deviation1: \",np.std(a))"
   ]
  },
  {
   "cell_type": "code",
   "execution_count": 30,
   "id": "7bcaf511-61d1-4111-8ef2-0673297b49df",
   "metadata": {},
   "outputs": [
    {
     "data": {
      "text/plain": [
       "123.45"
      ]
     },
     "execution_count": 30,
     "metadata": {},
     "output_type": "execute_result"
    }
   ],
   "source": [
    "b = np.array([150, 90, 115, 145, 118, 112, 135, 121, 117, 122, 119, 128, 115, 145, 120, 90, 155, 135, 122, 115])\n",
    "b.mean()"
   ]
  },
  {
   "cell_type": "code",
   "execution_count": 31,
   "id": "0be6f882-30c7-4ed2-be47-ec88b8a540d4",
   "metadata": {},
   "outputs": [
    {
     "name": "stdout",
     "output_type": "stream",
     "text": [
      "Std deviation2:  16.752537121284046\n"
     ]
    }
   ],
   "source": [
    "print(\"Std deviation2: \",np.std(b))"
   ]
  },
  {
   "cell_type": "code",
   "execution_count": 32,
   "id": "d4dd9253-37a1-4e97-8073-f5038466be71",
   "metadata": {},
   "outputs": [],
   "source": [
    "sample_size = 100000\n",
    "ratings = np.random.randint(1, 6, sample_size)"
   ]
  },
  {
   "cell_type": "code",
   "execution_count": 33,
   "id": "616bf953-c90f-4764-bd7f-a9d4d59cb361",
   "metadata": {},
   "outputs": [],
   "source": [
    "# modify data for right skew\n",
    "right_skew_data = np.concatenate((ratings, np.random.randint(1, 2, sample_size//2)))\n",
    "leftt_skew_data = np.concatenate((ratings, np.random.randint(4, 6, sample_size // 2)))\n"
   ]
  },
  {
   "cell_type": "code",
   "execution_count": 36,
   "id": "9f07aafc-90a4-43d7-b9c9-33c240348cdd",
   "metadata": {},
   "outputs": [
    {
     "ename": "NameError",
     "evalue": "name 'data' is not defined",
     "output_type": "error",
     "traceback": [
      "\u001b[1;31m---------------------------------------------------------------------------\u001b[0m",
      "\u001b[1;31mNameError\u001b[0m                                 Traceback (most recent call last)",
      "Cell \u001b[1;32mIn[36], line 19\u001b[0m\n\u001b[0;32m     15\u001b[0m     ax\u001b[38;5;241m.\u001b[39mgrid(axis\u001b[38;5;241m=\u001b[39m\u001b[38;5;124m'\u001b[39m\u001b[38;5;124my\u001b[39m\u001b[38;5;124m'\u001b[39m, alpha\u001b[38;5;241m=\u001b[39m\u001b[38;5;241m0.5\u001b[39m)\n\u001b[0;32m     18\u001b[0m \u001b[38;5;66;03m# calculate mean, median and skewnes\u001b[39;00m\n\u001b[1;32m---> 19\u001b[0m mean,median,skewness \u001b[38;5;241m=\u001b[39m calculate_stats(data)\n\u001b[0;32m     20\u001b[0m ax\u001b[38;5;241m.\u001b[39maxvline(x\u001b[38;5;241m=\u001b[39mmean,color\u001b[38;5;241m=\u001b[39m\u001b[38;5;124m'\u001b[39m\u001b[38;5;124mred\u001b[39m\u001b[38;5;124m'\u001b[39m,linestyle\u001b[38;5;241m=\u001b[39m\u001b[38;5;124m'\u001b[39m\u001b[38;5;124m--\u001b[39m\u001b[38;5;124m'\u001b[39m,label\u001b[38;5;241m=\u001b[39m\u001b[38;5;124mf\u001b[39m\u001b[38;5;124m'\u001b[39m\u001b[38;5;124mMean:\u001b[39m\u001b[38;5;132;01m{\u001b[39;00mmean\u001b[38;5;132;01m:\u001b[39;00m\u001b[38;5;124m.2f\u001b[39m\u001b[38;5;132;01m}\u001b[39;00m\u001b[38;5;124m'\u001b[39m)\n\u001b[0;32m     21\u001b[0m ax\u001b[38;5;241m.\u001b[39maxvline(x\u001b[38;5;241m=\u001b[39mmedian,color\u001b[38;5;241m=\u001b[39m\u001b[38;5;124m'\u001b[39m\u001b[38;5;124mblue\u001b[39m\u001b[38;5;124m'\u001b[39m,linestyle\u001b[38;5;241m=\u001b[39m\u001b[38;5;124m'\u001b[39m\u001b[38;5;124m--\u001b[39m\u001b[38;5;124m'\u001b[39m,label\u001b[38;5;241m=\u001b[39m\u001b[38;5;124mf\u001b[39m\u001b[38;5;124m'\u001b[39m\u001b[38;5;124mMedian:\u001b[39m\u001b[38;5;132;01m{\u001b[39;00mmedian\u001b[38;5;132;01m}\u001b[39;00m\u001b[38;5;124m'\u001b[39m)\n",
      "\u001b[1;31mNameError\u001b[0m: name 'data' is not defined"
     ]
    }
   ],
   "source": [
    "# function to calculate mean, median and skewness\n",
    "def calculate_stats(data):\n",
    "    mean = np.mean(data)\n",
    "    median = np.median(data)\n",
    "    skewness = skew(data)\n",
    "    return mean, median, skewness\n",
    "\n",
    "# function to plot histogram with mean and median lines\n",
    "def plot_histogram(ax, data, title):\n",
    "    ax.hist(data, bins=np.arange(1, 7) - 0.5, rwidth=0.8, alpha=0.7)\n",
    "    ax.set_title(title)\n",
    "    ax.set_xlabel('rating')\n",
    "    ax.set_ylabel('Frequency')\n",
    "    ax.set_xticks(range(1, 6))\n",
    "    ax.grid(axis='y', alpha=0.5)\n",
    "\n",
    "\n",
    "# calculate mean, median and skewnes\n",
    "mean,median,skewness = calculate_stats(data)\n",
    "ax.axvline(x=mean,color='red',linestyle='--',label=f'Mean:{mean:.2f}')\n",
    "ax.axvline(x=median,color='blue',linestyle='--',label=f'Median:{median}')\n",
    "ax.legend()\n",
    "\n",
    "\n"
   ]
  },
  {
   "cell_type": "code",
   "execution_count": 35,
   "id": "63258f1d-6eac-4bcc-85ff-4d478cac4d99",
   "metadata": {},
   "outputs": [
    {
     "ename": "NameError",
     "evalue": "name 'title' is not defined",
     "output_type": "error",
     "traceback": [
      "\u001b[1;31m---------------------------------------------------------------------------\u001b[0m",
      "\u001b[1;31mNameError\u001b[0m                                 Traceback (most recent call last)",
      "Cell \u001b[1;32mIn[35], line 1\u001b[0m\n\u001b[1;32m----> 1\u001b[0m \u001b[38;5;124mf\u001b[39m\u001b[38;5;124m\"\u001b[39m\u001b[38;5;132;01m{\u001b[39;00mtitle\u001b[38;5;132;01m}\u001b[39;00m\u001b[38;5;124m:\u001b[39m\u001b[38;5;124m\"\u001b[39m\n",
      "\u001b[1;31mNameError\u001b[0m: name 'title' is not defined"
     ]
    }
   ],
   "source": []
  },
  {
   "cell_type": "code",
   "execution_count": null,
   "id": "3a9f05ee-a6bd-49a7-9cfa-2ca855b05fe7",
   "metadata": {},
   "outputs": [],
   "source": []
  },
  {
   "cell_type": "code",
   "execution_count": null,
   "id": "2d639ba1-a97a-491c-9edd-074f5ce5cb93",
   "metadata": {},
   "outputs": [],
   "source": []
  },
  {
   "cell_type": "code",
   "execution_count": null,
   "id": "acb869af-026c-4503-8f43-6ea929976855",
   "metadata": {},
   "outputs": [],
   "source": []
  },
  {
   "cell_type": "code",
   "execution_count": null,
   "id": "43fe0e70-fc30-4460-a4e0-410a9c695cc5",
   "metadata": {},
   "outputs": [],
   "source": []
  }
 ],
 "metadata": {
  "kernelspec": {
   "display_name": "Python 3 (ipykernel)",
   "language": "python",
   "name": "python3"
  },
  "language_info": {
   "codemirror_mode": {
    "name": "ipython",
    "version": 3
   },
   "file_extension": ".py",
   "mimetype": "text/x-python",
   "name": "python",
   "nbconvert_exporter": "python",
   "pygments_lexer": "ipython3",
   "version": "3.12.4"
  }
 },
 "nbformat": 4,
 "nbformat_minor": 5
}
