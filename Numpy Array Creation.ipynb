{
 "cells": [
  {
   "cell_type": "code",
   "execution_count": 1,
   "id": "a12297e4-25e8-4a57-895b-1da5e49c638d",
   "metadata": {},
   "outputs": [],
   "source": [
    "import numpy as np"
   ]
  },
  {
   "cell_type": "code",
   "execution_count": 9,
   "id": "4ffea577-3f76-4119-9961-b3d5238a67ef",
   "metadata": {},
   "outputs": [
    {
     "data": {
      "text/plain": [
       "array([1, 2, 3])"
      ]
     },
     "execution_count": 9,
     "metadata": {},
     "output_type": "execute_result"
    }
   ],
   "source": [
    "# Create a numpy array from a list\n",
    "my_list = [1,2,3]\n",
    "my_array = np.array(my_list)\n",
    "my_array"
   ]
  },
  {
   "cell_type": "code",
   "execution_count": 11,
   "id": "4e58aca9-1fb6-45c3-99b5-f79ee9d26b90",
   "metadata": {},
   "outputs": [
    {
     "data": {
      "text/plain": [
       "numpy.ndarray"
      ]
     },
     "execution_count": 11,
     "metadata": {},
     "output_type": "execute_result"
    }
   ],
   "source": [
    "type(my_array)"
   ]
  },
  {
   "cell_type": "code",
   "execution_count": 15,
   "id": "652d76a7-ea1e-4aa8-9f58-db5824b0921a",
   "metadata": {},
   "outputs": [
    {
     "data": {
      "text/plain": [
       "array([[1, 2, 3],\n",
       "       [4, 5, 6],\n",
       "       [7, 8, 9]])"
      ]
     },
     "execution_count": 15,
     "metadata": {},
     "output_type": "execute_result"
    }
   ],
   "source": [
    "# Or from a list of list\n",
    "my_matrix = [[1,2,3],[4,5,6],[7,8,9]]\n",
    "arr = np.array(my_matrix)\n",
    "arr"
   ]
  },
  {
   "cell_type": "code",
   "execution_count": 17,
   "id": "b55b5ff1-7de0-443b-95e5-8e957b69605e",
   "metadata": {},
   "outputs": [
    {
     "data": {
      "text/plain": [
       "array([0, 1, 2, 3, 4, 5, 6, 7, 8, 9])"
      ]
     },
     "execution_count": 17,
     "metadata": {},
     "output_type": "execute_result"
    }
   ],
   "source": [
    "# Creating arrays using built-in functions\n",
    "# Return evenly spaced values within a given interval\n",
    "# start, stop, step\n",
    "ar1 = np.arange(0,10)\n",
    "ar1"
   ]
  },
  {
   "cell_type": "code",
   "execution_count": 23,
   "id": "3eb81f59-db5c-4c16-a33f-d54e3256b3b7",
   "metadata": {},
   "outputs": [
    {
     "data": {
      "text/plain": [
       "array([ 0,  2,  4,  6,  8, 10])"
      ]
     },
     "execution_count": 23,
     "metadata": {},
     "output_type": "execute_result"
    }
   ],
   "source": [
    "ar2 = np.arange(0,11,2)\n",
    "ar2"
   ]
  },
  {
   "cell_type": "code",
   "execution_count": 25,
   "id": "a44e1e0f-4fae-435c-bad8-c188eb552e4c",
   "metadata": {},
   "outputs": [
    {
     "data": {
      "text/plain": [
       "array([0., 0., 0.])"
      ]
     },
     "execution_count": 25,
     "metadata": {},
     "output_type": "execute_result"
    }
   ],
   "source": [
    "# Generate arrays of zeros or ones\n",
    "np.zeros(3)"
   ]
  },
  {
   "cell_type": "code",
   "execution_count": 31,
   "id": "72078f6a-8dee-46e3-aa4c-29b9692339f2",
   "metadata": {},
   "outputs": [
    {
     "data": {
      "text/plain": [
       "array([[0., 0., 0.],\n",
       "       [0., 0., 0.],\n",
       "       [0., 0., 0.]])"
      ]
     },
     "execution_count": 31,
     "metadata": {},
     "output_type": "execute_result"
    }
   ],
   "source": [
    "np.zeros((3,3))"
   ]
  },
  {
   "cell_type": "code",
   "execution_count": 33,
   "id": "90ca5d17-8612-4530-a9ce-999fe5c97c05",
   "metadata": {},
   "outputs": [
    {
     "data": {
      "text/plain": [
       "array([1., 1., 1.])"
      ]
     },
     "execution_count": 33,
     "metadata": {},
     "output_type": "execute_result"
    }
   ],
   "source": [
    "np.ones(3)"
   ]
  },
  {
   "cell_type": "code",
   "execution_count": 35,
   "id": "0223a32f-cc74-46a8-8f90-32eebbe00df2",
   "metadata": {},
   "outputs": [
    {
     "data": {
      "text/plain": [
       "array([[1., 1., 1., 1.],\n",
       "       [1., 1., 1., 1.],\n",
       "       [1., 1., 1., 1.]])"
      ]
     },
     "execution_count": 35,
     "metadata": {},
     "output_type": "execute_result"
    }
   ],
   "source": [
    "np.ones((3,4))"
   ]
  },
  {
   "cell_type": "code",
   "execution_count": 37,
   "id": "c52a9036-351c-457c-ab90-887b0b7f471b",
   "metadata": {},
   "outputs": [
    {
     "data": {
      "text/plain": [
       "array([ 0.,  5., 10.])"
      ]
     },
     "execution_count": 37,
     "metadata": {},
     "output_type": "execute_result"
    }
   ],
   "source": [
    "# Return evenly spaced numbers over a specified interval\n",
    "# start, stop, number of elements (and not step)\n",
    "# Unlike numpy.arange(), the stop value is included in the result\n",
    "# The spacing between values is automatically determined based on the \n",
    "#  specified number of values (num)\n",
    "np.linspace(0,10,3)"
   ]
  },
  {
   "cell_type": "code",
   "execution_count": 39,
   "id": "fdc45a19-ff98-44d6-9824-2ceab5d496ca",
   "metadata": {},
   "outputs": [
    {
     "data": {
      "text/plain": [
       "array([0.        , 0.55555556, 1.11111111, 1.66666667, 2.22222222,\n",
       "       2.77777778, 3.33333333, 3.88888889, 4.44444444, 5.        ])"
      ]
     },
     "execution_count": 39,
     "metadata": {},
     "output_type": "execute_result"
    }
   ],
   "source": [
    "np.linspace(0,5,10)"
   ]
  },
  {
   "cell_type": "code",
   "execution_count": 57,
   "id": "05d2c1cf-d43e-435f-8286-193b9b57180c",
   "metadata": {},
   "outputs": [
    {
     "data": {
      "text/plain": [
       "array([0.31713758, 0.73444668, 0.4035997 , 0.08134907, 0.82314649,\n",
       "       0.97825783, 0.88727961, 0.68583007, 0.6699432 , 0.44433556,\n",
       "       0.04937696, 0.76236195, 0.83655505, 0.59044211, 0.74736547,\n",
       "       0.64625707, 0.53429523, 0.88092845, 0.1234031 , 0.94136271,\n",
       "       0.06631304, 0.10064301, 0.38807577])"
      ]
     },
     "execution_count": 57,
     "metadata": {},
     "output_type": "execute_result"
    }
   ],
   "source": [
    "# Random number arrays\n",
    "np.random.rand(23)"
   ]
  },
  {
   "cell_type": "code",
   "execution_count": 59,
   "id": "91bcc10c-2f33-4ea2-bb29-d5c7d1053bea",
   "metadata": {},
   "outputs": [
    {
     "data": {
      "text/plain": [
       "array([[0.952199  , 0.82231529, 0.32669725, 0.62257344, 0.09251518],\n",
       "       [0.11452617, 0.52098528, 0.29223858, 0.51904211, 0.05216355],\n",
       "       [0.1638539 , 0.75359229, 0.88641258, 0.77710239, 0.03093594],\n",
       "       [0.88681639, 0.3280252 , 0.32906819, 0.95242592, 0.89091885],\n",
       "       [0.69175878, 0.70497781, 0.41859721, 0.41029257, 0.21668394]])"
      ]
     },
     "execution_count": 59,
     "metadata": {},
     "output_type": "execute_result"
    }
   ],
   "source": [
    "# Random number arrays\n",
    "np.random.rand(5,5)"
   ]
  },
  {
   "cell_type": "code",
   "execution_count": 61,
   "id": "6cb8e7f9-ff7e-425a-9a9a-a7eaba3c96ad",
   "metadata": {},
   "outputs": [
    {
     "data": {
      "text/plain": [
       "array([ 0.78042754, -1.15804297])"
      ]
     },
     "execution_count": 61,
     "metadata": {},
     "output_type": "execute_result"
    }
   ],
   "source": [
    "# From normal distribution\n",
    "np.random.randn(2)"
   ]
  },
  {
   "cell_type": "code",
   "execution_count": 63,
   "id": "d28ea4b0-576a-412b-a177-5f3aeedd53d6",
   "metadata": {},
   "outputs": [
    {
     "data": {
      "text/plain": [
       "array([[ 0.67173241,  0.08325399, -0.30774747, -0.52053241, -1.74021318],\n",
       "       [-1.22167628, -1.02344719,  0.00370309, -1.83096302,  0.91914546],\n",
       "       [-1.58097767, -0.19396689,  0.92164465, -2.12460007, -0.9546023 ],\n",
       "       [ 1.72993406,  0.4967924 ,  0.6626892 , -2.11609607, -2.17983694],\n",
       "       [ 0.14938047, -0.38651471,  0.91347809, -0.24105938,  0.0731315 ]])"
      ]
     },
     "execution_count": 63,
     "metadata": {},
     "output_type": "execute_result"
    }
   ],
   "source": [
    "np.random.randn(5,5)"
   ]
  },
  {
   "cell_type": "code",
   "execution_count": 69,
   "id": "365f955a-ded0-4471-a900-8d7bef33d01a",
   "metadata": {},
   "outputs": [
    {
     "data": {
      "text/plain": [
       "64"
      ]
     },
     "execution_count": 69,
     "metadata": {},
     "output_type": "execute_result"
    }
   ],
   "source": [
    "# Random integers from low (inclusive) to high (exclusive)\n",
    "# Single random integers between 1 and 100\n",
    "np.random.randint(1,100)"
   ]
  },
  {
   "cell_type": "code",
   "execution_count": 71,
   "id": "c0e8ace6-9600-4df1-9f99-b345e5b1d741",
   "metadata": {},
   "outputs": [
    {
     "data": {
      "text/plain": [
       "array([58, 46, 37,  6, 74, 26, 93, 91, 88, 43])"
      ]
     },
     "execution_count": 71,
     "metadata": {},
     "output_type": "execute_result"
    }
   ],
   "source": [
    "# 10 random integers between 1 and 100\n",
    "np.random.randint(1,100,10)"
   ]
  },
  {
   "cell_type": "code",
   "execution_count": 75,
   "id": "c4a54c39-589e-4611-9722-b8089d8ba88d",
   "metadata": {},
   "outputs": [
    {
     "data": {
      "text/plain": [
       "array([0.91910903, 0.6421956 , 0.75371223, 0.13931457])"
      ]
     },
     "execution_count": 75,
     "metadata": {},
     "output_type": "execute_result"
    }
   ],
   "source": [
    "# Seeding for reproducable results\n",
    "np.random.seed(77)\n",
    "np.random.rand(4)  # 4 random numbers "
   ]
  },
  {
   "cell_type": "code",
   "execution_count": 81,
   "id": "e3633b03-8b52-47ca-ad1c-a14e22f61420",
   "metadata": {},
   "outputs": [
    {
     "data": {
      "text/plain": [
       "array([0.91910903, 0.6421956 , 0.75371223, 0.13931457])"
      ]
     },
     "execution_count": 81,
     "metadata": {},
     "output_type": "execute_result"
    }
   ],
   "source": [
    "np.random.seed(77)\n",
    "np.random.rand(4)"
   ]
  },
  {
   "cell_type": "code",
   "execution_count": 91,
   "id": "c7d492ef-8e7d-4ef8-a896-4fc765910c0e",
   "metadata": {},
   "outputs": [
    {
     "name": "stdout",
     "output_type": "stream",
     "text": [
      "[ 0  1  2  3  4  5  6  7  8  9 10 11 12 13 14 15 16 17 18 19 20 21 22 23\n",
      " 24]\n",
      "[44 37 26 17 34 25  4 44 35  9]\n"
     ]
    }
   ],
   "source": [
    "# Storing\n",
    "arr = np.arange(25)  # numbers from 0 to 24\n",
    "print(arr)\n",
    "ranarr = np.random.randint(0,50,10)  # 10 random numbers between 0 and 50\n",
    "print(ranarr)"
   ]
  },
  {
   "cell_type": "code",
   "execution_count": 93,
   "id": "0be3bc91-a050-49f8-a74e-66eaa923a2c2",
   "metadata": {},
   "outputs": [
    {
     "data": {
      "text/plain": [
       "array([[ 0,  1,  2,  3,  4],\n",
       "       [ 5,  6,  7,  8,  9],\n",
       "       [10, 11, 12, 13, 14],\n",
       "       [15, 16, 17, 18, 19],\n",
       "       [20, 21, 22, 23, 24]])"
      ]
     },
     "execution_count": 93,
     "metadata": {},
     "output_type": "execute_result"
    }
   ],
   "source": [
    "# reshape: Returns an array containing the same data with a new shape\n",
    "arr.reshape(5,5)"
   ]
  },
  {
   "cell_type": "code",
   "execution_count": 95,
   "id": "4e75163a-d31d-43bb-9af0-d365a860b129",
   "metadata": {},
   "outputs": [
    {
     "data": {
      "text/plain": [
       "44"
      ]
     },
     "execution_count": 95,
     "metadata": {},
     "output_type": "execute_result"
    }
   ],
   "source": [
    "# Max, Min and their index positions\n",
    "ranarr.max()"
   ]
  },
  {
   "cell_type": "code",
   "execution_count": 97,
   "id": "cd157649-d661-4241-8c30-ab12574cd1bd",
   "metadata": {},
   "outputs": [
    {
     "data": {
      "text/plain": [
       "4"
      ]
     },
     "execution_count": 97,
     "metadata": {},
     "output_type": "execute_result"
    }
   ],
   "source": [
    "ranarr.min()"
   ]
  },
  {
   "cell_type": "code",
   "execution_count": 99,
   "id": "f603efe5-ffde-4173-9e75-c6f387de325c",
   "metadata": {},
   "outputs": [
    {
     "data": {
      "text/plain": [
       "0"
      ]
     },
     "execution_count": 99,
     "metadata": {},
     "output_type": "execute_result"
    }
   ],
   "source": [
    "ranarr.argmax()"
   ]
  },
  {
   "cell_type": "code",
   "execution_count": null,
   "id": "7d2d753f-abd0-444d-af43-6729aad357e5",
   "metadata": {},
   "outputs": [],
   "source": []
  }
 ],
 "metadata": {
  "kernelspec": {
   "display_name": "Python 3 (ipykernel)",
   "language": "python",
   "name": "python3"
  },
  "language_info": {
   "codemirror_mode": {
    "name": "ipython",
    "version": 3
   },
   "file_extension": ".py",
   "mimetype": "text/x-python",
   "name": "python",
   "nbconvert_exporter": "python",
   "pygments_lexer": "ipython3",
   "version": "3.12.4"
  }
 },
 "nbformat": 4,
 "nbformat_minor": 5
}
