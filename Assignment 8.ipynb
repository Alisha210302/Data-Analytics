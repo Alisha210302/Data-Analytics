{
 "cells": [
  {
   "cell_type": "code",
   "execution_count": 1,
   "id": "4bc7e977-05d7-4ef6-8478-b84c921f1805",
   "metadata": {},
   "outputs": [],
   "source": [
    "import pandas as pd"
   ]
  },
  {
   "cell_type": "markdown",
   "id": "85f35e4a-7f9d-4b63-ade2-db226ca506b6",
   "metadata": {},
   "source": [
    "### 1. Write a Pandas program to create"
   ]
  },
  {
   "cell_type": "code",
   "execution_count": 3,
   "id": "a2c91850-ddef-415c-8ce5-55c8e8c34448",
   "metadata": {},
   "outputs": [
    {
     "data": {
      "text/plain": [
       "Timestamp('2021-01-15 00:00:00')"
      ]
     },
     "execution_count": 3,
     "metadata": {},
     "output_type": "execute_result"
    }
   ],
   "source": [
    "# a. Datetime object for Jan 15 2012.\n",
    "pd.to_datetime('Jan 15 2021')"
   ]
  },
  {
   "cell_type": "code",
   "execution_count": 28,
   "id": "b1ed82c4-70c2-4929-b023-fe30f24973a8",
   "metadata": {},
   "outputs": [
    {
     "data": {
      "text/plain": [
       "Timestamp('2024-10-22 21:20:00')"
      ]
     },
     "execution_count": 28,
     "metadata": {},
     "output_type": "execute_result"
    }
   ],
   "source": [
    "# b. Specific date and time of 9:20 pm.\n",
    "pd.to_datetime('9:20pm')"
   ]
  },
  {
   "cell_type": "code",
   "execution_count": 37,
   "id": "5df32ceb-3ba1-464f-aa7d-07b9146fba6f",
   "metadata": {},
   "outputs": [
    {
     "data": {
      "text/plain": [
       "Timestamp('2021-01-15 00:00:00')"
      ]
     },
     "execution_count": 37,
     "metadata": {},
     "output_type": "execute_result"
    }
   ],
   "source": [
    "pd.to_datetime('Jan 15 2021')"
   ]
  },
  {
   "cell_type": "code",
   "execution_count": 38,
   "id": "d651ac66-3208-4112-a0f7-38d4d0939ac0",
   "metadata": {},
   "outputs": [
    {
     "data": {
      "text/plain": [
       "Timestamp('2024-10-22 14:30:01.702479')"
      ]
     },
     "execution_count": 38,
     "metadata": {},
     "output_type": "execute_result"
    }
   ],
   "source": [
    "# c. Local date and time.\n",
    "pd.Timestamp('now')"
   ]
  },
  {
   "cell_type": "code",
   "execution_count": 26,
   "id": "100f9710-b617-453b-bd1c-4e6fbb31faa4",
   "metadata": {},
   "outputs": [
    {
     "data": {
      "text/plain": [
       "datetime.date(2024, 10, 22)"
      ]
     },
     "execution_count": 26,
     "metadata": {},
     "output_type": "execute_result"
    }
   ],
   "source": [
    "# d. A date without time.\n",
    "pd.to_datetime('now').date()"
   ]
  },
  {
   "cell_type": "code",
   "execution_count": 27,
   "id": "833b4e9c-1bdf-41f2-a3cc-2b73252ca785",
   "metadata": {},
   "outputs": [
    {
     "data": {
      "text/plain": [
       "Timestamp('2024-10-22 13:12:59.549412')"
      ]
     },
     "execution_count": 27,
     "metadata": {},
     "output_type": "execute_result"
    }
   ],
   "source": [
    "# e.current date\n",
    "pd.Timestamp('now')"
   ]
  },
  {
   "cell_type": "code",
   "execution_count": 32,
   "id": "0ef78363-f5fb-4e00-9929-a8ac894f0468",
   "metadata": {},
   "outputs": [
    {
     "data": {
      "text/plain": [
       "datetime.time(21, 20)"
      ]
     },
     "execution_count": 32,
     "metadata": {},
     "output_type": "execute_result"
    }
   ],
   "source": [
    "# f. Time from a datetime.\n",
    "pd.to_datetime('Jan 15 2021 9:20pm').time()"
   ]
  },
  {
   "cell_type": "code",
   "execution_count": 31,
   "id": "392fec54-9058-4935-bafa-9a44c640d338",
   "metadata": {},
   "outputs": [
    {
     "data": {
      "text/plain": [
       "datetime.time(13, 27, 14, 274849)"
      ]
     },
     "execution_count": 31,
     "metadata": {},
     "output_type": "execute_result"
    }
   ],
   "source": [
    "# g. Current local time.\n",
    "pd.to_datetime('now').time()"
   ]
  },
  {
   "cell_type": "code",
   "execution_count": 39,
   "id": "7d85a1ad-3a02-4790-b77b-e1a56a9437da",
   "metadata": {},
   "outputs": [
    {
     "name": "stdout",
     "output_type": "stream",
     "text": [
      "2023-01-01 00:00:00\n",
      "2023-01-01 10:15:30\n",
      "2024-10-22 10:15:00.515945\n",
      "2024-10-22 14:37:16.515945\n",
      "2024-10-22 14:37:16.516940\n"
     ]
    }
   ],
   "source": [
    "# a) Specific date using timestamp\n",
    "timestamp_date = pd.Timestamp('2023-01-01')\n",
    "\n",
    "# b) Date and time using timestamp\n",
    "timestamp_datetime = pd.Timestamp('2023-01-01 10:15:30')\n",
    "\n",
    "# c) Adding time to current local date using timestamp\n",
    "current_date_with_time = pd.Timestamp.today().replace(hour=10, minute=15, second=0)\n",
    "\n",
    "# d) Current date and time using timestamp\n",
    "current_timestamp = pd.Timestamp.now()\n",
    "\n",
    "print(timestamp_date)\n",
    "print(timestamp_datetime)\n",
    "print(current_date_with_time)\n",
    "print(current_timestamp)\n",
    "print(pd.Timestamp.today())"
   ]
  },
  {
   "cell_type": "code",
   "execution_count": 40,
   "id": "517bb523-876e-464a-96d7-c4bd9b22403f",
   "metadata": {},
   "outputs": [
    {
     "name": "stdout",
     "output_type": "stream",
     "text": [
      "2023-05-10 00:00:00\n",
      "2023-05-10 00:00:00\n"
     ]
    }
   ],
   "source": [
    "# 3.\n",
    "# a) Create a date from year, month, day\n",
    "date = pd.Timestamp(year=2023, month=5, day=10)\n",
    "\n",
    "# b) Create a date from string format\n",
    "date_from_string = pd.to_datetime('2023-05-10')\n",
    "\n",
    "print(date)\n",
    "print(date_from_string)\n"
   ]
  },
  {
   "cell_type": "code",
   "execution_count": 43,
   "id": "286170fd-84a7-45c9-aca9-67bfeb8a8e9d",
   "metadata": {},
   "outputs": [
    {
     "name": "stdout",
     "output_type": "stream",
     "text": [
      "2023-05-09 00:00:00 2023-05-11 00:00:00 9\n"
     ]
    }
   ],
   "source": [
    "# 4. \n",
    "# Specified date\n",
    "specified_date = pd.Timestamp('2023-05-10')\n",
    "\n",
    "# Day before and after\n",
    "day_before = specified_date - pd.Timedelta(days=1)\n",
    "day_after = specified_date + pd.Timedelta(days=1)\n",
    "\n",
    "# Days between two dates\n",
    "start_date = pd.Timestamp('2023-05-01')\n",
    "end_date = pd.Timestamp('2023-05-10')\n",
    "days_between = (end_date - start_date).days\n",
    "\n",
    "print(day_before, day_after, days_between)\n"
   ]
  },
  {
   "cell_type": "code",
   "execution_count": 53,
   "id": "e882cb69-ebf5-4473-8963-05f159dcda3c",
   "metadata": {},
   "outputs": [
    {
     "name": "stdout",
     "output_type": "stream",
     "text": [
      "2023-01-01   -0.960735\n",
      "2023-01-02    0.649684\n",
      "2023-01-03    0.634911\n",
      "2023-01-04    0.986894\n",
      "Freq: D, dtype: float64 <class 'pandas.core.indexes.datetimes.DatetimeIndex'>\n"
     ]
    }
   ],
   "source": [
    "# 5. \n",
    "\n",
    "import numpy as np\n",
    "\n",
    "# Create time series with two index labels and random values\n",
    "dates = pd.date_range('2023-01-01', periods=4, freq='D')\n",
    "time_series = pd.Series(np.random.randn(4), index=dates)\n",
    "\n",
    "# Print type of the index\n",
    "index_type = type(time_series.index)\n",
    "\n",
    "print(time_series, index_type)\n"
   ]
  },
  {
   "cell_type": "code",
   "execution_count": 54,
   "id": "35a74a12-fcbe-4439-a7b1-b053800552a7",
   "metadata": {},
   "outputs": [
    {
     "name": "stdout",
     "output_type": "stream",
     "text": [
      "DatetimeIndex(['2023-01-01', '2023-01-02', '2023-01-03'], dtype='datetime64[ns]', freq=None)\n"
     ]
    }
   ],
   "source": [
    "# 6.\n",
    "date_strings = ['2023-01-01', '2023-01-02', '2023-01-03']\n",
    "time_series_from_strings = pd.to_datetime(date_strings)\n",
    "\n",
    "print(time_series_from_strings)\n"
   ]
  },
  {
   "cell_type": "code",
   "execution_count": 55,
   "id": "b62f1ce1-be5f-423d-a8e0-3372310adaea",
   "metadata": {},
   "outputs": [
    {
     "name": "stdout",
     "output_type": "stream",
     "text": [
      "2023-01-01    0.861114\n",
      "2023-01-02   -0.209144\n",
      "2023-01-03    0.641734\n",
      "2023-01-04   -0.191773\n",
      "2023-01-05   -1.330453\n",
      "2023-01-06   -1.265662\n",
      "2023-01-07   -0.476654\n",
      "2023-01-08   -1.461246\n",
      "2023-01-09    0.314520\n",
      "2023-01-10   -0.635824\n",
      "Freq: D, dtype: float64 2023-01-03    0.641734\n",
      "2023-01-04   -0.191773\n",
      "2023-01-05   -1.330453\n",
      "Freq: D, dtype: float64\n"
     ]
    }
   ],
   "source": [
    "# 7.\n",
    "\n",
    "# Create time series object with time-indexed data\n",
    "dates = pd.date_range('2023-01-01', periods=10)\n",
    "data = pd.Series(np.random.randn(10), index=dates)\n",
    "\n",
    "# Select dates of the same year (2023) and select dates between two dates\n",
    "same_year_data = data['2023']\n",
    "selected_data = data['2023-01-03':'2023-01-05']\n",
    "\n",
    "print(same_year_data, selected_data)\n"
   ]
  },
  {
   "cell_type": "code",
   "execution_count": 56,
   "id": "ebc0158d-0b3a-4a16-b35b-bd019882d91c",
   "metadata": {},
   "outputs": [
    {
     "name": "stdout",
     "output_type": "stream",
     "text": [
      "DatetimeIndex(['2023-01-01', '2023-01-02', '2023-01-03', '2023-01-04',\n",
      "               '2023-01-05', '2023-01-06', '2023-01-07', '2023-01-08',\n",
      "               '2023-01-09', '2023-01-10'],\n",
      "              dtype='datetime64[ns]', freq='D')\n"
     ]
    }
   ],
   "source": [
    "# 8.\n",
    "start_date = pd.Timestamp('2023-01-01')\n",
    "date_range = pd.date_range(start=start_date, periods=10)\n",
    "\n",
    "print(date_range)\n"
   ]
  },
  {
   "cell_type": "code",
   "execution_count": 57,
   "id": "cbff37e5-2e5d-4ee9-a70a-9e3940cd67ba",
   "metadata": {},
   "outputs": [
    {
     "name": "stdout",
     "output_type": "stream",
     "text": [
      "DatetimeIndex(['2023-05-01', '2023-05-02', '2023-05-03', '2023-05-04',\n",
      "               '2023-05-05', '2023-05-06', '2023-05-07', '2023-05-08',\n",
      "               '2023-05-09', '2023-05-10', '2023-05-11', '2023-05-12',\n",
      "               '2023-05-13', '2023-05-14', '2023-05-15', '2023-05-16',\n",
      "               '2023-05-17', '2023-05-18', '2023-05-19', '2023-05-20',\n",
      "               '2023-05-21', '2023-05-22', '2023-05-23', '2023-05-24',\n",
      "               '2023-05-25', '2023-05-26', '2023-05-27', '2023-05-28',\n",
      "               '2023-05-29', '2023-05-30', '2023-05-31'],\n",
      "              dtype='datetime64[ns]', freq='D') 2023-05-31 00:00:00 2023-05-01 00:00:00\n"
     ]
    }
   ],
   "source": [
    "# 9.\n",
    "# Create a whole month of dates\n",
    "month_dates = pd.date_range('2023-05-01', '2023-05-31', freq='D')\n",
    "\n",
    "# Max and Min timestamps\n",
    "max_timestamp = month_dates.max()\n",
    "min_timestamp = month_dates.min()\n",
    "\n",
    "print(month_dates, max_timestamp, min_timestamp)\n"
   ]
  },
  {
   "cell_type": "code",
   "execution_count": 59,
   "id": "022699b7-353d-4f12-bef7-b888c08d7a1e",
   "metadata": {},
   "outputs": [
    {
     "name": "stdout",
     "output_type": "stream",
     "text": [
      "DatetimeIndex(['2023-01-31', '2023-04-30', '2023-07-31', '2023-10-31'], dtype='datetime64[ns]', freq='3ME')\n"
     ]
    }
   ],
   "source": [
    "# 10.\n",
    "three_month_freq = pd.date_range('2023-01-01', periods=4, freq='3ME')\n",
    "\n",
    "print(three_month_freq)\n"
   ]
  },
  {
   "cell_type": "code",
   "execution_count": 60,
   "id": "9aceb875-ccc6-4e28-8340-8de7fd600a8c",
   "metadata": {},
   "outputs": [
    {
     "name": "stdout",
     "output_type": "stream",
     "text": [
      "TimedeltaIndex(['0 days 00:00:00', '0 days 01:00:00', '0 days 02:00:00',\n",
      "                '0 days 03:00:00', '0 days 04:00:00', '0 days 05:00:00',\n",
      "                '0 days 06:00:00', '0 days 07:00:00', '0 days 08:00:00',\n",
      "                '0 days 09:00:00'],\n",
      "               dtype='timedelta64[ns]', freq='h')\n"
     ]
    },
    {
     "name": "stderr",
     "output_type": "stream",
     "text": [
      "C:\\Users\\DAI.STUDENTSDC\\AppData\\Local\\Temp\\ipykernel_11648\\863854681.py:2: FutureWarning: 'H' is deprecated and will be removed in a future version, please use 'h' instead.\n",
      "  hourly_durations = pd.timedelta_range(start='0 hours', periods=10, freq='H')\n"
     ]
    }
   ],
   "source": [
    "# 11.\n",
    "hourly_durations = pd.timedelta_range(start='0 hours', periods=10, freq='H')\n",
    "\n",
    "print(hourly_durations)\n"
   ]
  },
  {
   "cell_type": "code",
   "execution_count": 61,
   "id": "6b1d52d0-9871-466d-a53c-0162b0b979df",
   "metadata": {},
   "outputs": [
    {
     "name": "stdout",
     "output_type": "stream",
     "text": [
      "   year  day_of_year       date\n",
      "0  2023          100 2023-04-10\n"
     ]
    }
   ],
   "source": [
    "# 12.\n",
    "df = pd.DataFrame({'year': [2023], 'day_of_year': [100]})\n",
    "df['date'] = pd.to_datetime(df['year'].astype(str) + df['day_of_year'].astype(str), format='%Y%j')\n",
    "\n",
    "print(df)\n"
   ]
  },
  {
   "cell_type": "code",
   "execution_count": 62,
   "id": "42f4ed44-39bb-44e6-92da-111979d469bc",
   "metadata": {},
   "outputs": [
    {
     "name": "stdout",
     "output_type": "stream",
     "text": [
      "0   2023-05-10\n",
      "dtype: datetime64[ns]\n"
     ]
    }
   ],
   "source": [
    "# 13.\n",
    "df = pd.DataFrame({'year': [2023], 'month': [5], 'day': [10]})\n",
    "timestamps = pd.to_datetime(df)\n",
    "\n",
    "print(timestamps)\n"
   ]
  },
  {
   "cell_type": "code",
   "execution_count": 63,
   "id": "2e2ab1fa-cc96-4df9-8511-bf04796448ae",
   "metadata": {},
   "outputs": [
    {
     "name": "stdout",
     "output_type": "stream",
     "text": [
      "True\n"
     ]
    }
   ],
   "source": [
    "# 14.\n",
    "date = pd.Timestamp('2023-05-10')\n",
    "is_business_day = date.isoweekday() in range(1, 6)\n",
    "\n",
    "print(is_business_day)\n"
   ]
  },
  {
   "cell_type": "code",
   "execution_count": 72,
   "id": "a362be1b-1ea6-4898-b48b-cb5ef0b618ce",
   "metadata": {},
   "outputs": [
    {
     "name": "stdout",
     "output_type": "stream",
     "text": [
      "DatetimeIndex(['2023-01-31', '2023-02-28', '2023-03-31', '2023-04-28',\n",
      "               '2023-05-31', '2023-06-30', '2023-07-31', '2023-08-31',\n",
      "               '2023-09-29', '2023-10-31', '2023-11-30', '2023-12-29'],\n",
      "              dtype='datetime64[ns]', freq='BME')\n"
     ]
    },
    {
     "name": "stderr",
     "output_type": "stream",
     "text": [
      "C:\\Users\\DAI.STUDENTSDC\\AppData\\Local\\Temp\\ipykernel_11648\\3423670313.py:2: FutureWarning: 'BM' is deprecated and will be removed in a future version, please use 'BME' instead.\n",
      "  last_working_day = pd.date_range('2023-01-01', '2023-12-31', freq='BM')\n"
     ]
    }
   ],
   "source": [
    "# 15.\n",
    "last_working_day = pd.date_range('2023-01-01', '2023-12-31', freq='BM')\n",
    "\n",
    "print(last_working_day)\n"
   ]
  },
  {
   "cell_type": "code",
   "execution_count": 65,
   "id": "6d30a651-ec31-4133-9198-5e3e8cf66f83",
   "metadata": {},
   "outputs": [
    {
     "name": "stdout",
     "output_type": "stream",
     "text": [
      "Index(['00:00', '01:00', '02:00', '03:00', '04:00'], dtype='object')\n"
     ]
    },
    {
     "name": "stderr",
     "output_type": "stream",
     "text": [
      "C:\\Users\\DAI.STUDENTSDC\\AppData\\Local\\Temp\\ipykernel_11648\\2672198737.py:2: FutureWarning: 'H' is deprecated and will be removed in a future version, please use 'h' instead.\n",
      "  times = pd.date_range('2023-01-01', periods=5, freq='H')\n"
     ]
    }
   ],
   "source": [
    "# 16.\n",
    "times = pd.date_range('2023-01-01', periods=5, freq='H')\n",
    "times_combined = times.strftime('%H:%M')\n",
    "\n",
    "print(times_combined)\n"
   ]
  },
  {
   "cell_type": "code",
   "execution_count": 66,
   "id": "85cc2d1e-d481-42bd-ba81-5bf901177e62",
   "metadata": {},
   "outputs": [
    {
     "name": "stdout",
     "output_type": "stream",
     "text": [
      "2021-12-01 00:00:00 2021-11-30 19:00:00-05:00\n"
     ]
    }
   ],
   "source": [
    "# 17. \n",
    "epoch_time = 1638316800  # Unix timestamp for 2021-12-01\n",
    "regular_timestamp = pd.to_datetime(epoch_time, unit='s')\n",
    "\n",
    "# Convert to specific timezone (e.g., 'America/New_York')\n",
    "tz_timestamp = regular_timestamp.tz_localize('UTC').tz_convert('America/New_York')\n",
    "\n",
    "print(regular_timestamp, tz_timestamp)\n"
   ]
  },
  {
   "cell_type": "code",
   "execution_count": 70,
   "id": "cdc2b776-8916-4296-9353-20ef2efb05fb",
   "metadata": {},
   "outputs": [
    {
     "name": "stdout",
     "output_type": "stream",
     "text": [
      "DatetimeIndex(['2023-01-01 00:00:00+00:00', '2023-01-02 00:00:00+00:00',\n",
      "               '2023-01-03 00:00:00+00:00', '2023-01-04 00:00:00+00:00',\n",
      "               '2023-01-05 00:00:00+00:00'],\n",
      "              dtype='datetime64[ns, Europe/London]', freq='D')\n"
     ]
    }
   ],
   "source": [
    "# 18.\n",
    "time_series_with_tz = pd.date_range('2023-01-01', periods=5, freq='D', tz='Europe/London')\n",
    "\n",
    "print(time_series_with_tz)\n"
   ]
  },
  {
   "cell_type": "code",
   "execution_count": 74,
   "id": "0a22c11b-6f66-4bd3-8c38-f6c666f053bc",
   "metadata": {},
   "outputs": [
    {
     "name": "stdout",
     "output_type": "stream",
     "text": [
      "DatetimeIndex(['2023-01-01', '2023-01-02', '2023-01-03', '2023-01-04',\n",
      "               '2023-01-05'],\n",
      "              dtype='datetime64[ns]', freq=None)\n"
     ]
    }
   ],
   "source": [
    "# 19.\n",
    "tz_aware_series = pd.date_range('2023-01-01', periods=5, tz='UTC')\n",
    "tz_naive_series = tz_aware_series.tz_localize(None)\n",
    "\n",
    "print(tz_naive_series)"
   ]
  },
  {
   "cell_type": "code",
   "execution_count": 75,
   "id": "9fc8f54b-2d03-4b7a-b993-b82e98df521a",
   "metadata": {},
   "outputs": [
    {
     "name": "stdout",
     "output_type": "stream",
     "text": [
      "-1 days +14:00:00\n"
     ]
    }
   ],
   "source": [
    "# 20.\n",
    "timestamp1 = pd.Timestamp('2023-01-01 10:00', tz='UTC')\n",
    "timestamp2 = pd.Timestamp('2023-01-01 15:00', tz='America/New_York')\n",
    "\n",
    "time_difference = timestamp1 - timestamp2\n",
    "\n",
    "print(time_difference)\n"
   ]
  },
  {
   "cell_type": "code",
   "execution_count": null,
   "id": "f56a4086-0cdb-40b5-8055-4939c72ea38f",
   "metadata": {},
   "outputs": [],
   "source": []
  }
 ],
 "metadata": {
  "kernelspec": {
   "display_name": "Python 3 (ipykernel)",
   "language": "python",
   "name": "python3"
  },
  "language_info": {
   "codemirror_mode": {
    "name": "ipython",
    "version": 3
   },
   "file_extension": ".py",
   "mimetype": "text/x-python",
   "name": "python",
   "nbconvert_exporter": "python",
   "pygments_lexer": "ipython3",
   "version": "3.12.4"
  }
 },
 "nbformat": 4,
 "nbformat_minor": 5
}
